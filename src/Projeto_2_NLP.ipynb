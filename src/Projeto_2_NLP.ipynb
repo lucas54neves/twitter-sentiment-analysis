{
  "cells": [
    {
      "cell_type": "markdown",
      "id": "362c03d1",
      "metadata": {
        "id": "362c03d1"
      },
      "source": [
        "# Projeto 2 - NLP\n",
        "\n",
        "-----\n",
        "\n",
        "Nome:  \n",
        "Turma:"
      ]
    },
    {
      "cell_type": "markdown",
      "id": "9517a372",
      "metadata": {
        "id": "9517a372"
      },
      "source": [
        "Os segundo projeto do módulo de Dados não estruturados II será focado no processamento de linguagem natural! Usaremos os algoritmos aprendidos e as técnicas vistas na segunda parte do curso para extrairmos informações relevantes de texto. Mais precisamente, de publicações no Twitter."
      ]
    },
    {
      "cell_type": "markdown",
      "id": "955a3a98",
      "metadata": {
        "id": "955a3a98"
      },
      "source": [
        "## Os Dados"
      ]
    },
    {
      "cell_type": "markdown",
      "id": "237d5657",
      "metadata": {
        "id": "237d5657"
      },
      "source": [
        "Utilizaremos um Dataset obtido do Twitter com 100K postagens entre os dias 01/08/2018 e 20/10/2018. Cada postagem é classificada como **positiva**, **negativa** ou **neutra**.  \n",
        "\n",
        "Dois arquivos serão disponilizados para o desenvolvimento dos modelos, um para treino/validação e outro para submissão. Os arquivos se encontram na pasta */Dados/train* e */Dados/subm*, respectivamente.\n",
        "\n",
        "Descrição das colunas:\n",
        "\n",
        "- **id**: ID único para o tweet  \n",
        "- **tweet_text**: Texto da publicação no Twitter  \n",
        "- **tweet_date**: Data da publicação no Twitter  \n",
        "- **sentiment**: 0, se negativo; 1, se positivo; 2, se neutro  \n",
        "- **query_used**: Filtro utilizado para buscar a publicação"
      ]
    },
    {
      "cell_type": "markdown",
      "id": "9dc86eb5",
      "metadata": {
        "id": "9dc86eb5"
      },
      "source": [
        "## O Problema"
      ]
    },
    {
      "cell_type": "markdown",
      "id": "4b0e1f6f",
      "metadata": {
        "id": "4b0e1f6f"
      },
      "source": [
        "Você deverá desenvolver um modelo para detectar o sentimento de uma publicação do Twitter a classificando em uma das três categorias: **positiva**, **negativa** ou **neutra**. O texto da publicação está disponível na coluna \"tweet_text\". Teste pelo menos 2 técnicas de NLP diferentes e escolha a métrica de avaliação que julgar mais pertinente.  \n",
        "\n",
        "Escolha o melhor modelo e gere uma base a partir dos dados de submissão, que estão no caminho ```Dados/subm/Subm3Classes.csv```, com o seguinte formato:\n",
        "\n",
        "\n",
        "|id|sentiment_predict\n",
        "|-|-|\n",
        "|12123232|0\n",
        "|323212|1\n",
        "|342235|2\n",
        "\n",
        "Salve essa tabela como um arquivo csv com o nome ```<nome>_<sobrenome>_nlp_degree.csv``` e submeta-o como parte da entrega final do projeto.  \n",
        "\n",
        "Para ajudar no desenvolvimento, é possível dividir o projeto em algumas fases:\n",
        "\n",
        "- **Análise de consistência dos dados**: analise se os dados estão fazendo sentido, se os campos estão completos e se há dados duplicados ou faltantes. Se julgar necessário, trate-os.    \n",
        "\n",
        "\n",
        "- **Análise exploratória**: analise a sua base como um todo, verifique o balanceamento entre as classes e foque, principalmente, na coluna ```tweet_text```.    \n",
        "\n",
        "\n",
        "- **Pré-processamento e transformações**: projetos de NLP exigem um considerável pré-processamento. Foque no tratamento da string do texto. Procure começar com tratamentos simples e adicione complexidade gradualmente. Nessa etapa você testará diferentes técnicas de transformações, como o Bag Of Words e o TF-IDF.    \n",
        "\n",
        "\n",
        "- **Treinamento do modelo**: depois das transformações, você poderá executar o treinamento do modelo classificador. Nessa etapa o problema se torna semelhante aos abordados nos módulos anteriores. Você pode testar diversos classificadores como RandomForest, AdaBoost, entre outros. Otimize os hiperparâmetros do modelo com técnicas como a GridSearch e a RandomizedSearch.    \n",
        "\n",
        "\n",
        "- **Conclusões**: descreva, em texto, as conclusões sobre os seus estudos. O modelo é capaz de identificar o sentimento das publicações? É possível extrapolar o modelo para outros contextos, como a análise de sentimento de uma frase qualquer? Pense em questões pertinentes e relevantes que você tenha obtido durante o desenvolvimento do projeto!     \n",
        "\n"
      ]
    },
    {
      "cell_type": "markdown",
      "id": "283638c9",
      "metadata": {
        "id": "283638c9"
      },
      "source": [
        "## Critérios de avaliação\n",
        "\n",
        "Os seguintes itens serão avaliados:\n",
        "\n",
        "1. Desenvolvimento das etapas descritas acima;\n",
        "\n",
        "\n",
        "2. Reprodutibilidade do código: seu código será executado e precisa gerar os mesmos resultados apresentados por você;\n",
        "\n",
        "\n",
        "3. Clareza: seu código precisa ser claro e deve existir uma linha de raciocínio direta. Comente o código em pontos que julgar necessário para o entendimento total;\n",
        "\n",
        "\n",
        "4. Justificativa das conclusões obitdas: não existirá certo ou errado, mas as decisões e as conclusões precisam ser bem justificadas com base nos resultados obtidos.  \n",
        "\n",
        "O desempenho do modelo **não** será considerado como critério de avaliação.  "
      ]
    },
    {
      "cell_type": "markdown",
      "id": "e6049a9c",
      "metadata": {
        "id": "e6049a9c"
      },
      "source": [
        "## Informações gerais\n",
        "\n",
        "- O projeto deve ser desenvolvido individualmente ou em grupo;\n",
        "\n",
        "\n",
        "\n",
        "- Entrega através do Class: Processamento Digital de Imagens - Definições e Fundamentos\n",
        " -> Exercícios -> Projeto 2\n",
        "\n",
        "\n",
        "Anexar, na entrega, o notebook de desenvolvimento e o arquivo .csv de submissão, da seguinte forma:  \n",
        "\n",
        "Criar um arquivo zip com:\n",
        "- notebook: ```<nome>_<sobrenome>_<númeroTurma>_projeto_2.ipynb```   \n",
        "- csv: ```<nome>_<sobrenome>_<númeroTurma>_projeto_2_submissao.csv```\n"
      ]
    },
    {
      "cell_type": "markdown",
      "id": "2bb23437",
      "metadata": {
        "id": "2bb23437"
      },
      "source": [
        "## Dicas\n",
        "\n",
        "### Base de treino e submissão\n",
        "\n",
        "A base de submissão não possui a variável de saída, portanto ela será utilizada **apenas** para gerar o arquivo que acompanha a submissão do projeto.      \n",
        "\n",
        "### Tente encontrar possíveis vieses\n",
        "\n",
        "É muito comum que modelos de NLP possuam fortes vieses, como a tendência de relacionar palavras específicas com alguma classe de saída. Tente encontrar vieses no seu estudo, isso pode ajudar a tirar boas conclusões. o campo \"query_used\" pode ser útil para essa análise.  \n",
        "\n",
        "### O pré-processamento é a chave para um bom desempenho\n",
        "\n",
        "Essa é a etapa que mais vai contribuir para o desempenho do seu modelo. Seja criativo e desenvolva essa etapa de uma maneira que seja fácil de aplicar o mesmo processamento para uma nova base, você terá que fazer isso para gerar a base de submissão.\n",
        "\n",
        "-------"
      ]
    },
    {
      "cell_type": "markdown",
      "id": "7d988dd9",
      "metadata": {
        "id": "7d988dd9"
      },
      "source": [
        "# Bibliotecas"
      ]
    },
    {
      "cell_type": "code",
      "execution_count": 6,
      "id": "c3cc495a",
      "metadata": {},
      "outputs": [],
      "source": [
        "from IPython.display import clear_output"
      ]
    },
    {
      "cell_type": "code",
      "execution_count": 7,
      "id": "c87a5976",
      "metadata": {},
      "outputs": [
        {
          "name": "stdout",
          "output_type": "stream",
          "text": [
            "Success!\n"
          ]
        }
      ],
      "source": [
        "!pip install nltk\n",
        "!pip install scikit-learn\n",
        "!pip install keras\n",
        "!pip install tensorflow\n",
        "\n",
        "clear_output(True)\n",
        "print(\"Success!\")"
      ]
    },
    {
      "cell_type": "code",
      "execution_count": 9,
      "id": "eh0Ool09XkFM",
      "metadata": {
        "colab": {
          "base_uri": "https://localhost:8080/"
        },
        "id": "eh0Ool09XkFM",
        "outputId": "7a3f5e38-eca4-41af-fc67-54f9b911b37b"
      },
      "outputs": [
        {
          "name": "stderr",
          "output_type": "stream",
          "text": [
            "[nltk_data] Downloading package stopwords to /home/lucas/nltk_data...\n",
            "[nltk_data]   Package stopwords is already up-to-date!\n",
            "[nltk_data] Downloading package punkt to /home/lucas/nltk_data...\n",
            "[nltk_data]   Unzipping tokenizers/punkt.zip.\n"
          ]
        }
      ],
      "source": [
        "import pandas as pd\n",
        "import plotly.express as px\n",
        "import plotly.io as pio\n",
        "import re\n",
        "from keras.preprocessing.text import Tokenizer\n",
        "from keras_preprocessing.sequence import pad_sequences\n",
        "from sklearn.preprocessing import LabelEncoder\n",
        "from keras.utils import np_utils\n",
        "from nltk.corpus import stopwords\n",
        "from nltk.tokenize import word_tokenize\n",
        "import string\n",
        "import nltk\n",
        "\n",
        "nltk.download(\"stopwords\")\n",
        "nltk.download('punkt')\n",
        "pio.renderers\n",
        "pio.renderers.default = \"notebook_connected\""
      ]
    },
    {
      "cell_type": "markdown",
      "id": "0d1e4cf7",
      "metadata": {
        "id": "0d1e4cf7"
      },
      "source": [
        "# Análise de consistência dos dados\n",
        "\n",
        "- Não foram encontrados dados nulos;\n",
        "- Foram encontrados dados duplicados porque esses dados são resultados de diferentes queries;\n",
        "- As queries possuem alto víes. Cada query possui apenas um sentimento relacionado."
      ]
    },
    {
      "cell_type": "markdown",
      "id": "f7c6eb5e",
      "metadata": {
        "id": "f7c6eb5e"
      },
      "source": [
        "## Leitura dos dados"
      ]
    },
    {
      "cell_type": "code",
      "execution_count": null,
      "id": "0f2ed035",
      "metadata": {
        "colab": {
          "base_uri": "https://localhost:8080/",
          "height": 424
        },
        "id": "0f2ed035",
        "outputId": "1ef1191c-fdb8-4b2d-eabd-7e84fa4b7f1a"
      },
      "outputs": [
        {
          "data": {
            "text/html": [
              "\n",
              "  <div id=\"df-d401f723-ff0e-49c6-8191-eef32427c712\">\n",
              "    <div class=\"colab-df-container\">\n",
              "      <div>\n",
              "<style scoped>\n",
              "    .dataframe tbody tr th:only-of-type {\n",
              "        vertical-align: middle;\n",
              "    }\n",
              "\n",
              "    .dataframe tbody tr th {\n",
              "        vertical-align: top;\n",
              "    }\n",
              "\n",
              "    .dataframe thead th {\n",
              "        text-align: right;\n",
              "    }\n",
              "</style>\n",
              "<table border=\"1\" class=\"dataframe\">\n",
              "  <thead>\n",
              "    <tr style=\"text-align: right;\">\n",
              "      <th></th>\n",
              "      <th>id</th>\n",
              "      <th>tweet_text</th>\n",
              "      <th>tweet_date</th>\n",
              "      <th>sentiment</th>\n",
              "      <th>query_used</th>\n",
              "    </tr>\n",
              "  </thead>\n",
              "  <tbody>\n",
              "    <tr>\n",
              "      <th>0</th>\n",
              "      <td>1049721159292346368</td>\n",
              "      <td>Rio elege maior bancada policial de sua histór...</td>\n",
              "      <td>Tue Oct 09 18:00:01 +0000 2018</td>\n",
              "      <td>2</td>\n",
              "      <td>folha</td>\n",
              "    </tr>\n",
              "    <tr>\n",
              "      <th>1</th>\n",
              "      <td>1046251157025423360</td>\n",
              "      <td>fiquei tão triste quando eu vi o preço da câme...</td>\n",
              "      <td>Sun Sep 30 04:11:28 +0000 2018</td>\n",
              "      <td>0</td>\n",
              "      <td>:(</td>\n",
              "    </tr>\n",
              "    <tr>\n",
              "      <th>2</th>\n",
              "      <td>1041744620206653440</td>\n",
              "      <td>Para Theresa May, seu plano para o Brexit é a ...</td>\n",
              "      <td>Mon Sep 17 17:44:06 +0000 2018</td>\n",
              "      <td>2</td>\n",
              "      <td>exame</td>\n",
              "    </tr>\n",
              "    <tr>\n",
              "      <th>3</th>\n",
              "      <td>1046937084727107589</td>\n",
              "      <td>caralho eu quero proteger a danielly em um pot...</td>\n",
              "      <td>Tue Oct 02 01:37:06 +0000 2018</td>\n",
              "      <td>0</td>\n",
              "      <td>:(</td>\n",
              "    </tr>\n",
              "    <tr>\n",
              "      <th>4</th>\n",
              "      <td>1047326854229778432</td>\n",
              "      <td>@SiCaetano_ viva o caos :)</td>\n",
              "      <td>Wed Oct 03 03:25:55 +0000 2018</td>\n",
              "      <td>1</td>\n",
              "      <td>:)</td>\n",
              "    </tr>\n",
              "  </tbody>\n",
              "</table>\n",
              "</div>\n",
              "      <button class=\"colab-df-convert\" onclick=\"convertToInteractive('df-d401f723-ff0e-49c6-8191-eef32427c712')\"\n",
              "              title=\"Convert this dataframe to an interactive table.\"\n",
              "              style=\"display:none;\">\n",
              "        \n",
              "  <svg xmlns=\"http://www.w3.org/2000/svg\" height=\"24px\"viewBox=\"0 0 24 24\"\n",
              "       width=\"24px\">\n",
              "    <path d=\"M0 0h24v24H0V0z\" fill=\"none\"/>\n",
              "    <path d=\"M18.56 5.44l.94 2.06.94-2.06 2.06-.94-2.06-.94-.94-2.06-.94 2.06-2.06.94zm-11 1L8.5 8.5l.94-2.06 2.06-.94-2.06-.94L8.5 2.5l-.94 2.06-2.06.94zm10 10l.94 2.06.94-2.06 2.06-.94-2.06-.94-.94-2.06-.94 2.06-2.06.94z\"/><path d=\"M17.41 7.96l-1.37-1.37c-.4-.4-.92-.59-1.43-.59-.52 0-1.04.2-1.43.59L10.3 9.45l-7.72 7.72c-.78.78-.78 2.05 0 2.83L4 21.41c.39.39.9.59 1.41.59.51 0 1.02-.2 1.41-.59l7.78-7.78 2.81-2.81c.8-.78.8-2.07 0-2.86zM5.41 20L4 18.59l7.72-7.72 1.47 1.35L5.41 20z\"/>\n",
              "  </svg>\n",
              "      </button>\n",
              "      \n",
              "  <style>\n",
              "    .colab-df-container {\n",
              "      display:flex;\n",
              "      flex-wrap:wrap;\n",
              "      gap: 12px;\n",
              "    }\n",
              "\n",
              "    .colab-df-convert {\n",
              "      background-color: #E8F0FE;\n",
              "      border: none;\n",
              "      border-radius: 50%;\n",
              "      cursor: pointer;\n",
              "      display: none;\n",
              "      fill: #1967D2;\n",
              "      height: 32px;\n",
              "      padding: 0 0 0 0;\n",
              "      width: 32px;\n",
              "    }\n",
              "\n",
              "    .colab-df-convert:hover {\n",
              "      background-color: #E2EBFA;\n",
              "      box-shadow: 0px 1px 2px rgba(60, 64, 67, 0.3), 0px 1px 3px 1px rgba(60, 64, 67, 0.15);\n",
              "      fill: #174EA6;\n",
              "    }\n",
              "\n",
              "    [theme=dark] .colab-df-convert {\n",
              "      background-color: #3B4455;\n",
              "      fill: #D2E3FC;\n",
              "    }\n",
              "\n",
              "    [theme=dark] .colab-df-convert:hover {\n",
              "      background-color: #434B5C;\n",
              "      box-shadow: 0px 1px 3px 1px rgba(0, 0, 0, 0.15);\n",
              "      filter: drop-shadow(0px 1px 2px rgba(0, 0, 0, 0.3));\n",
              "      fill: #FFFFFF;\n",
              "    }\n",
              "  </style>\n",
              "\n",
              "      <script>\n",
              "        const buttonEl =\n",
              "          document.querySelector('#df-d401f723-ff0e-49c6-8191-eef32427c712 button.colab-df-convert');\n",
              "        buttonEl.style.display =\n",
              "          google.colab.kernel.accessAllowed ? 'block' : 'none';\n",
              "\n",
              "        async function convertToInteractive(key) {\n",
              "          const element = document.querySelector('#df-d401f723-ff0e-49c6-8191-eef32427c712');\n",
              "          const dataTable =\n",
              "            await google.colab.kernel.invokeFunction('convertToInteractive',\n",
              "                                                     [key], {});\n",
              "          if (!dataTable) return;\n",
              "\n",
              "          const docLinkHtml = 'Like what you see? Visit the ' +\n",
              "            '<a target=\"_blank\" href=https://colab.research.google.com/notebooks/data_table.ipynb>data table notebook</a>'\n",
              "            + ' to learn more about interactive tables.';\n",
              "          element.innerHTML = '';\n",
              "          dataTable['output_type'] = 'display_data';\n",
              "          await google.colab.output.renderOutput(dataTable, element);\n",
              "          const docLink = document.createElement('div');\n",
              "          docLink.innerHTML = docLinkHtml;\n",
              "          element.appendChild(docLink);\n",
              "        }\n",
              "      </script>\n",
              "    </div>\n",
              "  </div>\n",
              "  "
            ],
            "text/plain": [
              "                    id                                         tweet_text  \\\n",
              "0  1049721159292346368  Rio elege maior bancada policial de sua histór...   \n",
              "1  1046251157025423360  fiquei tão triste quando eu vi o preço da câme...   \n",
              "2  1041744620206653440  Para Theresa May, seu plano para o Brexit é a ...   \n",
              "3  1046937084727107589  caralho eu quero proteger a danielly em um pot...   \n",
              "4  1047326854229778432                         @SiCaetano_ viva o caos :)   \n",
              "\n",
              "                       tweet_date  sentiment query_used  \n",
              "0  Tue Oct 09 18:00:01 +0000 2018          2      folha  \n",
              "1  Sun Sep 30 04:11:28 +0000 2018          0         :(  \n",
              "2  Mon Sep 17 17:44:06 +0000 2018          2      exame  \n",
              "3  Tue Oct 02 01:37:06 +0000 2018          0         :(  \n",
              "4  Wed Oct 03 03:25:55 +0000 2018          1         :)  "
            ]
          },
          "execution_count": 3,
          "metadata": {},
          "output_type": "execute_result"
        }
      ],
      "source": [
        "training_file_path = \"https://raw.githubusercontent.com/lucas54neves/twitter-sentiment-analysis/main/src/Dados/train/Train3Classes.csv\"\n",
        "\n",
        "df = pd.read_csv(training_file_path)\n",
        "\n",
        "df.head()"
      ]
    },
    {
      "cell_type": "code",
      "execution_count": null,
      "id": "d1ce5a39",
      "metadata": {
        "colab": {
          "base_uri": "https://localhost:8080/"
        },
        "id": "d1ce5a39",
        "outputId": "5d9f91be-137d-4355-b32f-88ee0be54f28"
      },
      "outputs": [
        {
          "data": {
            "text/plain": [
              "Index(['id', 'tweet_text', 'tweet_date', 'sentiment', 'query_used'], dtype='object')"
            ]
          },
          "execution_count": 4,
          "metadata": {},
          "output_type": "execute_result"
        }
      ],
      "source": [
        "df.columns"
      ]
    },
    {
      "cell_type": "markdown",
      "id": "l3-GZTxC2L7M",
      "metadata": {
        "id": "l3-GZTxC2L7M"
      },
      "source": [
        "## Pré-processamento para análise de consistência dos dados e para análise exploratória"
      ]
    },
    {
      "cell_type": "code",
      "execution_count": null,
      "id": "crC_W8Uv2RCx",
      "metadata": {
        "colab": {
          "base_uri": "https://localhost:8080/"
        },
        "id": "crC_W8Uv2RCx",
        "outputId": "78609943-0516-48c9-e497-b682158bb12a"
      },
      "outputs": [
        {
          "name": "stdout",
          "output_type": "stream",
          "text": [
            "Progress: 100.00%\n"
          ]
        }
      ],
      "source": [
        "_df = df.copy()\n",
        "\n",
        "def update_data(row, total):\n",
        "    row[\"tweet_text_length\"] = len(row[\"tweet_text\"])\n",
        "    row[\"tweet_time\"] = re.search(\"\\d{2}:\\d{2}:\\d{2}\", row[\"tweet_date\"]).group(0)\n",
        "    \n",
        "    hour = int(row[\"tweet_time\"][:2])\n",
        "    if hour < 6:\n",
        "        row[\"tweet_period\"] = \"Dawn\"\n",
        "    elif hour < 12:\n",
        "        row[\"tweet_period\"] = \"Morning\"\n",
        "    elif hour < 18:\n",
        "        row[\"tweet_period\"] = \"Afternoon\"\n",
        "    else:\n",
        "        row[\"tweet_period\"] = \"Night\"\n",
        "\n",
        "    if row[\"sentiment\"] == 0:\n",
        "        row[\"sentiment_name\"] = \"Negative\"\n",
        "    elif row[\"sentiment\"] == 1:\n",
        "        row[\"sentiment_name\"] = \"Positive\"\n",
        "    else:\n",
        "        row[\"sentiment_name\"] = \"Neutral\"\n",
        "\n",
        "    if row.name % 500 == 0:\n",
        "        value = (row.name + 1) / total * 100\n",
        "        print(f\"Progress: {value:.2f}%\")\n",
        "        clear_output(True)\n",
        "    \n",
        "    return row\n",
        "\n",
        "total = len(_df)\n",
        "\n",
        "_df = _df.apply(\n",
        "    lambda row: update_data(row, total),\n",
        "    axis=1\n",
        ")\n",
        "\n",
        "clear_output(True)\n",
        "print(\"Progress: 100.00%\")"
      ]
    },
    {
      "cell_type": "markdown",
      "id": "08f41e31",
      "metadata": {
        "id": "08f41e31"
      },
      "source": [
        "## Verifica se tem valores nulos\n",
        "\n",
        "Não foram encontrados dados nulos."
      ]
    },
    {
      "cell_type": "code",
      "execution_count": null,
      "id": "604ef615",
      "metadata": {
        "colab": {
          "base_uri": "https://localhost:8080/"
        },
        "id": "604ef615",
        "outputId": "e021b870-2aa6-4868-e30e-c15049424aef"
      },
      "outputs": [
        {
          "data": {
            "text/plain": [
              "id                   0\n",
              "tweet_text           0\n",
              "tweet_date           0\n",
              "sentiment            0\n",
              "query_used           0\n",
              "tweet_text_length    0\n",
              "tweet_time           0\n",
              "tweet_period         0\n",
              "sentiment_name       0\n",
              "dtype: int64"
            ]
          },
          "execution_count": 6,
          "metadata": {},
          "output_type": "execute_result"
        }
      ],
      "source": [
        "_df.isnull().sum()"
      ]
    },
    {
      "cell_type": "markdown",
      "id": "0307aba9",
      "metadata": {
        "id": "0307aba9"
      },
      "source": [
        "## Verifica valores duplicados\n",
        "\n",
        "Dados duplicados foram encontrados porque foram buscados por queries diferentes."
      ]
    },
    {
      "cell_type": "code",
      "execution_count": null,
      "id": "ca7a1f14",
      "metadata": {
        "colab": {
          "base_uri": "https://localhost:8080/"
        },
        "id": "ca7a1f14",
        "outputId": "9a78bfb0-92ee-4a0d-c03f-c9fd3732319b"
      },
      "outputs": [
        {
          "name": "stdout",
          "output_type": "stream",
          "text": [
            "id: 13\n",
            "tweet_text: 816\n",
            "tweet_date: 11713\n",
            "sentiment: 94997\n",
            "query_used: 94986\n",
            "tweet_text_length: 94638\n",
            "tweet_time: 44804\n",
            "tweet_period: 94996\n",
            "sentiment_name: 94997\n"
          ]
        }
      ],
      "source": [
        "for column in _df.columns:\n",
        "    exists_duplicated_values = _df[column].duplicated().sum()\n",
        "    print(f\"{column}: {exists_duplicated_values}\")"
      ]
    },
    {
      "cell_type": "code",
      "execution_count": null,
      "id": "d222995c",
      "metadata": {
        "colab": {
          "base_uri": "https://localhost:8080/"
        },
        "id": "d222995c",
        "outputId": "47f36437-cb6e-4a0f-f7a6-ee93c6121203"
      },
      "outputs": [
        {
          "data": {
            "text/plain": [
              "13"
            ]
          },
          "execution_count": 8,
          "metadata": {},
          "output_type": "execute_result"
        }
      ],
      "source": [
        "_df[\"id\"].duplicated().sum()"
      ]
    },
    {
      "cell_type": "code",
      "execution_count": null,
      "id": "efeba526",
      "metadata": {
        "colab": {
          "base_uri": "https://localhost:8080/",
          "height": 1000
        },
        "id": "efeba526",
        "outputId": "61da381d-71c5-4738-95ec-392adbe807d9"
      },
      "outputs": [
        {
          "data": {
            "text/html": [
              "\n",
              "  <div id=\"df-d26b0cfb-e12e-4506-8c50-8b3ae006340e\">\n",
              "    <div class=\"colab-df-container\">\n",
              "      <div>\n",
              "<style scoped>\n",
              "    .dataframe tbody tr th:only-of-type {\n",
              "        vertical-align: middle;\n",
              "    }\n",
              "\n",
              "    .dataframe tbody tr th {\n",
              "        vertical-align: top;\n",
              "    }\n",
              "\n",
              "    .dataframe thead th {\n",
              "        text-align: right;\n",
              "    }\n",
              "</style>\n",
              "<table border=\"1\" class=\"dataframe\">\n",
              "  <thead>\n",
              "    <tr style=\"text-align: right;\">\n",
              "      <th></th>\n",
              "      <th>id</th>\n",
              "      <th>tweet_text</th>\n",
              "      <th>tweet_date</th>\n",
              "      <th>sentiment</th>\n",
              "      <th>query_used</th>\n",
              "      <th>tweet_text_length</th>\n",
              "      <th>tweet_time</th>\n",
              "      <th>tweet_period</th>\n",
              "      <th>sentiment_name</th>\n",
              "    </tr>\n",
              "  </thead>\n",
              "  <tbody>\n",
              "    <tr>\n",
              "      <th>39184</th>\n",
              "      <td>1037082879438729216</td>\n",
              "      <td>O que é #FATO ou #FAKE na entrevista de Gerald...</td>\n",
              "      <td>Tue Sep 04 21:00:01 +0000 2018</td>\n",
              "      <td>2</td>\n",
              "      <td>#fato</td>\n",
              "      <td>118</td>\n",
              "      <td>21:00:01</td>\n",
              "      <td>Night</td>\n",
              "      <td>Neutral</td>\n",
              "    </tr>\n",
              "    <tr>\n",
              "      <th>38913</th>\n",
              "      <td>1037082879438729216</td>\n",
              "      <td>O que é #FATO ou #FAKE na entrevista de Gerald...</td>\n",
              "      <td>Tue Sep 04 21:00:01 +0000 2018</td>\n",
              "      <td>2</td>\n",
              "      <td>jornaloglobo</td>\n",
              "      <td>118</td>\n",
              "      <td>21:00:01</td>\n",
              "      <td>Night</td>\n",
              "      <td>Neutral</td>\n",
              "    </tr>\n",
              "    <tr>\n",
              "      <th>35012</th>\n",
              "      <td>1037837855433928704</td>\n",
              "      <td>Veja o que é #FATO ou #FAKE na entrevista de E...</td>\n",
              "      <td>Thu Sep 06 23:00:01 +0000 2018</td>\n",
              "      <td>2</td>\n",
              "      <td>#fato</td>\n",
              "      <td>114</td>\n",
              "      <td>23:00:01</td>\n",
              "      <td>Night</td>\n",
              "      <td>Neutral</td>\n",
              "    </tr>\n",
              "    <tr>\n",
              "      <th>20226</th>\n",
              "      <td>1037837855433928704</td>\n",
              "      <td>Veja o que é #FATO ou #FAKE na entrevista de E...</td>\n",
              "      <td>Thu Sep 06 23:00:01 +0000 2018</td>\n",
              "      <td>2</td>\n",
              "      <td>jornaloglobo</td>\n",
              "      <td>114</td>\n",
              "      <td>23:00:01</td>\n",
              "      <td>Night</td>\n",
              "      <td>Neutral</td>\n",
              "    </tr>\n",
              "    <tr>\n",
              "      <th>39324</th>\n",
              "      <td>1038222887432273920</td>\n",
              "      <td>Veja o que é #FATO ou #FAKE na entrevista de F...</td>\n",
              "      <td>Sat Sep 08 00:30:00 +0000 2018</td>\n",
              "      <td>2</td>\n",
              "      <td>jornaloglobo</td>\n",
              "      <td>121</td>\n",
              "      <td>00:30:00</td>\n",
              "      <td>Dawn</td>\n",
              "      <td>Neutral</td>\n",
              "    </tr>\n",
              "    <tr>\n",
              "      <th>83565</th>\n",
              "      <td>1038222887432273920</td>\n",
              "      <td>Veja o que é #FATO ou #FAKE na entrevista de F...</td>\n",
              "      <td>Sat Sep 08 00:30:00 +0000 2018</td>\n",
              "      <td>2</td>\n",
              "      <td>#fato</td>\n",
              "      <td>121</td>\n",
              "      <td>00:30:00</td>\n",
              "      <td>Dawn</td>\n",
              "      <td>Neutral</td>\n",
              "    </tr>\n",
              "    <tr>\n",
              "      <th>69100</th>\n",
              "      <td>1038494427503837185</td>\n",
              "      <td>Veja o que é #FATO ou #FAKE na entrevista de H...</td>\n",
              "      <td>Sat Sep 08 18:29:00 +0000 2018</td>\n",
              "      <td>2</td>\n",
              "      <td>#fato</td>\n",
              "      <td>121</td>\n",
              "      <td>18:29:00</td>\n",
              "      <td>Night</td>\n",
              "      <td>Neutral</td>\n",
              "    </tr>\n",
              "    <tr>\n",
              "      <th>35849</th>\n",
              "      <td>1038494427503837185</td>\n",
              "      <td>Veja o que é #FATO ou #FAKE na entrevista de H...</td>\n",
              "      <td>Sat Sep 08 18:29:00 +0000 2018</td>\n",
              "      <td>2</td>\n",
              "      <td>jornaloglobo</td>\n",
              "      <td>121</td>\n",
              "      <td>18:29:00</td>\n",
              "      <td>Night</td>\n",
              "      <td>Neutral</td>\n",
              "    </tr>\n",
              "    <tr>\n",
              "      <th>62236</th>\n",
              "      <td>1038570177191993344</td>\n",
              "      <td>Veja o que é #FATO ou #FAKE na entrevista de H...</td>\n",
              "      <td>Sat Sep 08 23:30:00 +0000 2018</td>\n",
              "      <td>2</td>\n",
              "      <td>#fato</td>\n",
              "      <td>120</td>\n",
              "      <td>23:30:00</td>\n",
              "      <td>Night</td>\n",
              "      <td>Neutral</td>\n",
              "    </tr>\n",
              "    <tr>\n",
              "      <th>93665</th>\n",
              "      <td>1038570177191993344</td>\n",
              "      <td>Veja o que é #FATO ou #FAKE na entrevista de H...</td>\n",
              "      <td>Sat Sep 08 23:30:00 +0000 2018</td>\n",
              "      <td>2</td>\n",
              "      <td>jornaloglobo</td>\n",
              "      <td>120</td>\n",
              "      <td>23:30:00</td>\n",
              "      <td>Night</td>\n",
              "      <td>Neutral</td>\n",
              "    </tr>\n",
              "    <tr>\n",
              "      <th>21547</th>\n",
              "      <td>1039333665304588296</td>\n",
              "      <td>Veja o que é #FATO ou #FAKE na entrevista de A...</td>\n",
              "      <td>Tue Sep 11 02:03:50 +0000 2018</td>\n",
              "      <td>2</td>\n",
              "      <td>jornaloglobo</td>\n",
              "      <td>95</td>\n",
              "      <td>02:03:50</td>\n",
              "      <td>Dawn</td>\n",
              "      <td>Neutral</td>\n",
              "    </tr>\n",
              "    <tr>\n",
              "      <th>56550</th>\n",
              "      <td>1039333665304588296</td>\n",
              "      <td>Veja o que é #FATO ou #FAKE na entrevista de A...</td>\n",
              "      <td>Tue Sep 11 02:03:50 +0000 2018</td>\n",
              "      <td>2</td>\n",
              "      <td>#fato</td>\n",
              "      <td>95</td>\n",
              "      <td>02:03:50</td>\n",
              "      <td>Dawn</td>\n",
              "      <td>Neutral</td>\n",
              "    </tr>\n",
              "    <tr>\n",
              "      <th>17419</th>\n",
              "      <td>1039617074081849345</td>\n",
              "      <td>Veja o que é #FATO ou #FAKE na sabatina de Mar...</td>\n",
              "      <td>Tue Sep 11 20:50:00 +0000 2018</td>\n",
              "      <td>2</td>\n",
              "      <td>jornaloglobo</td>\n",
              "      <td>113</td>\n",
              "      <td>20:50:00</td>\n",
              "      <td>Night</td>\n",
              "      <td>Neutral</td>\n",
              "    </tr>\n",
              "    <tr>\n",
              "      <th>42936</th>\n",
              "      <td>1039617074081849345</td>\n",
              "      <td>Veja o que é #FATO ou #FAKE na sabatina de Mar...</td>\n",
              "      <td>Tue Sep 11 20:50:00 +0000 2018</td>\n",
              "      <td>2</td>\n",
              "      <td>#fato</td>\n",
              "      <td>113</td>\n",
              "      <td>20:50:00</td>\n",
              "      <td>Night</td>\n",
              "      <td>Neutral</td>\n",
              "    </tr>\n",
              "    <tr>\n",
              "      <th>18026</th>\n",
              "      <td>1039987011904462849</td>\n",
              "      <td>Veja o que é #FATO ou #FAKE na sabatina de Cir...</td>\n",
              "      <td>Wed Sep 12 21:20:00 +0000 2018</td>\n",
              "      <td>2</td>\n",
              "      <td>#fato</td>\n",
              "      <td>111</td>\n",
              "      <td>21:20:00</td>\n",
              "      <td>Night</td>\n",
              "      <td>Neutral</td>\n",
              "    </tr>\n",
              "    <tr>\n",
              "      <th>68291</th>\n",
              "      <td>1039987011904462849</td>\n",
              "      <td>Veja o que é #FATO ou #FAKE na sabatina de Cir...</td>\n",
              "      <td>Wed Sep 12 21:20:00 +0000 2018</td>\n",
              "      <td>2</td>\n",
              "      <td>jornaloglobo</td>\n",
              "      <td>111</td>\n",
              "      <td>21:20:00</td>\n",
              "      <td>Night</td>\n",
              "      <td>Neutral</td>\n",
              "    </tr>\n",
              "    <tr>\n",
              "      <th>30744</th>\n",
              "      <td>1040377082189172738</td>\n",
              "      <td>Veja o que é #FATO ou #FAKE na sabatina de Ger...</td>\n",
              "      <td>Thu Sep 13 23:10:00 +0000 2018</td>\n",
              "      <td>2</td>\n",
              "      <td>#fato</td>\n",
              "      <td>116</td>\n",
              "      <td>23:10:00</td>\n",
              "      <td>Night</td>\n",
              "      <td>Neutral</td>\n",
              "    </tr>\n",
              "    <tr>\n",
              "      <th>32410</th>\n",
              "      <td>1040377082189172738</td>\n",
              "      <td>Veja o que é #FATO ou #FAKE na sabatina de Ger...</td>\n",
              "      <td>Thu Sep 13 23:10:00 +0000 2018</td>\n",
              "      <td>2</td>\n",
              "      <td>jornaloglobo</td>\n",
              "      <td>116</td>\n",
              "      <td>23:10:00</td>\n",
              "      <td>Night</td>\n",
              "      <td>Neutral</td>\n",
              "    </tr>\n",
              "    <tr>\n",
              "      <th>28564</th>\n",
              "      <td>1040952020990128129</td>\n",
              "      <td>Veja o que é #FATO ou #FAKE na entrevista de F...</td>\n",
              "      <td>Sat Sep 15 13:14:36 +0000 2018</td>\n",
              "      <td>2</td>\n",
              "      <td>#fato</td>\n",
              "      <td>132</td>\n",
              "      <td>13:14:36</td>\n",
              "      <td>Afternoon</td>\n",
              "      <td>Neutral</td>\n",
              "    </tr>\n",
              "    <tr>\n",
              "      <th>66221</th>\n",
              "      <td>1040952020990128129</td>\n",
              "      <td>Veja o que é #FATO ou #FAKE na entrevista de F...</td>\n",
              "      <td>Sat Sep 15 13:14:36 +0000 2018</td>\n",
              "      <td>2</td>\n",
              "      <td>jornaloglobo</td>\n",
              "      <td>132</td>\n",
              "      <td>13:14:36</td>\n",
              "      <td>Afternoon</td>\n",
              "      <td>Neutral</td>\n",
              "    </tr>\n",
              "    <tr>\n",
              "      <th>4777</th>\n",
              "      <td>1042890896163790848</td>\n",
              "      <td>Veja o que é #FATO ou #FAKE na entrevista de F...</td>\n",
              "      <td>Thu Sep 20 21:39:00 +0000 2018</td>\n",
              "      <td>2</td>\n",
              "      <td>jornaloglobo</td>\n",
              "      <td>132</td>\n",
              "      <td>21:39:00</td>\n",
              "      <td>Night</td>\n",
              "      <td>Neutral</td>\n",
              "    </tr>\n",
              "    <tr>\n",
              "      <th>39007</th>\n",
              "      <td>1042890896163790848</td>\n",
              "      <td>Veja o que é #FATO ou #FAKE na entrevista de F...</td>\n",
              "      <td>Thu Sep 20 21:39:00 +0000 2018</td>\n",
              "      <td>2</td>\n",
              "      <td>#fato</td>\n",
              "      <td>132</td>\n",
              "      <td>21:39:00</td>\n",
              "      <td>Night</td>\n",
              "      <td>Neutral</td>\n",
              "    </tr>\n",
              "    <tr>\n",
              "      <th>87130</th>\n",
              "      <td>1043522812634267648</td>\n",
              "      <td>Veja o que é #FATO ou #FAKE na entrevista de M...</td>\n",
              "      <td>Sat Sep 22 15:30:00 +0000 2018</td>\n",
              "      <td>2</td>\n",
              "      <td>#fato</td>\n",
              "      <td>128</td>\n",
              "      <td>15:30:00</td>\n",
              "      <td>Afternoon</td>\n",
              "      <td>Neutral</td>\n",
              "    </tr>\n",
              "    <tr>\n",
              "      <th>65328</th>\n",
              "      <td>1043522812634267648</td>\n",
              "      <td>Veja o que é #FATO ou #FAKE na entrevista de M...</td>\n",
              "      <td>Sat Sep 22 15:30:00 +0000 2018</td>\n",
              "      <td>2</td>\n",
              "      <td>jornaloglobo</td>\n",
              "      <td>128</td>\n",
              "      <td>15:30:00</td>\n",
              "      <td>Afternoon</td>\n",
              "      <td>Neutral</td>\n",
              "    </tr>\n",
              "    <tr>\n",
              "      <th>48967</th>\n",
              "      <td>1050747512179576834</td>\n",
              "      <td>era para ser somente algo normal, sem perceber...</td>\n",
              "      <td>Fri Oct 12 13:58:23 +0000 2018</td>\n",
              "      <td>1</td>\n",
              "      <td>:)</td>\n",
              "      <td>159</td>\n",
              "      <td>13:58:23</td>\n",
              "      <td>Afternoon</td>\n",
              "      <td>Positive</td>\n",
              "    </tr>\n",
              "    <tr>\n",
              "      <th>34464</th>\n",
              "      <td>1050747512179576834</td>\n",
              "      <td>era para ser somente algo normal, sem perceber...</td>\n",
              "      <td>Fri Oct 12 13:58:23 +0000 2018</td>\n",
              "      <td>2</td>\n",
              "      <td>#trabalho</td>\n",
              "      <td>159</td>\n",
              "      <td>13:58:23</td>\n",
              "      <td>Afternoon</td>\n",
              "      <td>Neutral</td>\n",
              "    </tr>\n",
              "  </tbody>\n",
              "</table>\n",
              "</div>\n",
              "      <button class=\"colab-df-convert\" onclick=\"convertToInteractive('df-d26b0cfb-e12e-4506-8c50-8b3ae006340e')\"\n",
              "              title=\"Convert this dataframe to an interactive table.\"\n",
              "              style=\"display:none;\">\n",
              "        \n",
              "  <svg xmlns=\"http://www.w3.org/2000/svg\" height=\"24px\"viewBox=\"0 0 24 24\"\n",
              "       width=\"24px\">\n",
              "    <path d=\"M0 0h24v24H0V0z\" fill=\"none\"/>\n",
              "    <path d=\"M18.56 5.44l.94 2.06.94-2.06 2.06-.94-2.06-.94-.94-2.06-.94 2.06-2.06.94zm-11 1L8.5 8.5l.94-2.06 2.06-.94-2.06-.94L8.5 2.5l-.94 2.06-2.06.94zm10 10l.94 2.06.94-2.06 2.06-.94-2.06-.94-.94-2.06-.94 2.06-2.06.94z\"/><path d=\"M17.41 7.96l-1.37-1.37c-.4-.4-.92-.59-1.43-.59-.52 0-1.04.2-1.43.59L10.3 9.45l-7.72 7.72c-.78.78-.78 2.05 0 2.83L4 21.41c.39.39.9.59 1.41.59.51 0 1.02-.2 1.41-.59l7.78-7.78 2.81-2.81c.8-.78.8-2.07 0-2.86zM5.41 20L4 18.59l7.72-7.72 1.47 1.35L5.41 20z\"/>\n",
              "  </svg>\n",
              "      </button>\n",
              "      \n",
              "  <style>\n",
              "    .colab-df-container {\n",
              "      display:flex;\n",
              "      flex-wrap:wrap;\n",
              "      gap: 12px;\n",
              "    }\n",
              "\n",
              "    .colab-df-convert {\n",
              "      background-color: #E8F0FE;\n",
              "      border: none;\n",
              "      border-radius: 50%;\n",
              "      cursor: pointer;\n",
              "      display: none;\n",
              "      fill: #1967D2;\n",
              "      height: 32px;\n",
              "      padding: 0 0 0 0;\n",
              "      width: 32px;\n",
              "    }\n",
              "\n",
              "    .colab-df-convert:hover {\n",
              "      background-color: #E2EBFA;\n",
              "      box-shadow: 0px 1px 2px rgba(60, 64, 67, 0.3), 0px 1px 3px 1px rgba(60, 64, 67, 0.15);\n",
              "      fill: #174EA6;\n",
              "    }\n",
              "\n",
              "    [theme=dark] .colab-df-convert {\n",
              "      background-color: #3B4455;\n",
              "      fill: #D2E3FC;\n",
              "    }\n",
              "\n",
              "    [theme=dark] .colab-df-convert:hover {\n",
              "      background-color: #434B5C;\n",
              "      box-shadow: 0px 1px 3px 1px rgba(0, 0, 0, 0.15);\n",
              "      filter: drop-shadow(0px 1px 2px rgba(0, 0, 0, 0.3));\n",
              "      fill: #FFFFFF;\n",
              "    }\n",
              "  </style>\n",
              "\n",
              "      <script>\n",
              "        const buttonEl =\n",
              "          document.querySelector('#df-d26b0cfb-e12e-4506-8c50-8b3ae006340e button.colab-df-convert');\n",
              "        buttonEl.style.display =\n",
              "          google.colab.kernel.accessAllowed ? 'block' : 'none';\n",
              "\n",
              "        async function convertToInteractive(key) {\n",
              "          const element = document.querySelector('#df-d26b0cfb-e12e-4506-8c50-8b3ae006340e');\n",
              "          const dataTable =\n",
              "            await google.colab.kernel.invokeFunction('convertToInteractive',\n",
              "                                                     [key], {});\n",
              "          if (!dataTable) return;\n",
              "\n",
              "          const docLinkHtml = 'Like what you see? Visit the ' +\n",
              "            '<a target=\"_blank\" href=https://colab.research.google.com/notebooks/data_table.ipynb>data table notebook</a>'\n",
              "            + ' to learn more about interactive tables.';\n",
              "          element.innerHTML = '';\n",
              "          dataTable['output_type'] = 'display_data';\n",
              "          await google.colab.output.renderOutput(dataTable, element);\n",
              "          const docLink = document.createElement('div');\n",
              "          docLink.innerHTML = docLinkHtml;\n",
              "          element.appendChild(docLink);\n",
              "        }\n",
              "      </script>\n",
              "    </div>\n",
              "  </div>\n",
              "  "
            ],
            "text/plain": [
              "                        id                                         tweet_text  \\\n",
              "39184  1037082879438729216  O que é #FATO ou #FAKE na entrevista de Gerald...   \n",
              "38913  1037082879438729216  O que é #FATO ou #FAKE na entrevista de Gerald...   \n",
              "35012  1037837855433928704  Veja o que é #FATO ou #FAKE na entrevista de E...   \n",
              "20226  1037837855433928704  Veja o que é #FATO ou #FAKE na entrevista de E...   \n",
              "39324  1038222887432273920  Veja o que é #FATO ou #FAKE na entrevista de F...   \n",
              "83565  1038222887432273920  Veja o que é #FATO ou #FAKE na entrevista de F...   \n",
              "69100  1038494427503837185  Veja o que é #FATO ou #FAKE na entrevista de H...   \n",
              "35849  1038494427503837185  Veja o que é #FATO ou #FAKE na entrevista de H...   \n",
              "62236  1038570177191993344  Veja o que é #FATO ou #FAKE na entrevista de H...   \n",
              "93665  1038570177191993344  Veja o que é #FATO ou #FAKE na entrevista de H...   \n",
              "21547  1039333665304588296  Veja o que é #FATO ou #FAKE na entrevista de A...   \n",
              "56550  1039333665304588296  Veja o que é #FATO ou #FAKE na entrevista de A...   \n",
              "17419  1039617074081849345  Veja o que é #FATO ou #FAKE na sabatina de Mar...   \n",
              "42936  1039617074081849345  Veja o que é #FATO ou #FAKE na sabatina de Mar...   \n",
              "18026  1039987011904462849  Veja o que é #FATO ou #FAKE na sabatina de Cir...   \n",
              "68291  1039987011904462849  Veja o que é #FATO ou #FAKE na sabatina de Cir...   \n",
              "30744  1040377082189172738  Veja o que é #FATO ou #FAKE na sabatina de Ger...   \n",
              "32410  1040377082189172738  Veja o que é #FATO ou #FAKE na sabatina de Ger...   \n",
              "28564  1040952020990128129  Veja o que é #FATO ou #FAKE na entrevista de F...   \n",
              "66221  1040952020990128129  Veja o que é #FATO ou #FAKE na entrevista de F...   \n",
              "4777   1042890896163790848  Veja o que é #FATO ou #FAKE na entrevista de F...   \n",
              "39007  1042890896163790848  Veja o que é #FATO ou #FAKE na entrevista de F...   \n",
              "87130  1043522812634267648  Veja o que é #FATO ou #FAKE na entrevista de M...   \n",
              "65328  1043522812634267648  Veja o que é #FATO ou #FAKE na entrevista de M...   \n",
              "48967  1050747512179576834  era para ser somente algo normal, sem perceber...   \n",
              "34464  1050747512179576834  era para ser somente algo normal, sem perceber...   \n",
              "\n",
              "                           tweet_date  sentiment    query_used  \\\n",
              "39184  Tue Sep 04 21:00:01 +0000 2018          2         #fato   \n",
              "38913  Tue Sep 04 21:00:01 +0000 2018          2  jornaloglobo   \n",
              "35012  Thu Sep 06 23:00:01 +0000 2018          2         #fato   \n",
              "20226  Thu Sep 06 23:00:01 +0000 2018          2  jornaloglobo   \n",
              "39324  Sat Sep 08 00:30:00 +0000 2018          2  jornaloglobo   \n",
              "83565  Sat Sep 08 00:30:00 +0000 2018          2         #fato   \n",
              "69100  Sat Sep 08 18:29:00 +0000 2018          2         #fato   \n",
              "35849  Sat Sep 08 18:29:00 +0000 2018          2  jornaloglobo   \n",
              "62236  Sat Sep 08 23:30:00 +0000 2018          2         #fato   \n",
              "93665  Sat Sep 08 23:30:00 +0000 2018          2  jornaloglobo   \n",
              "21547  Tue Sep 11 02:03:50 +0000 2018          2  jornaloglobo   \n",
              "56550  Tue Sep 11 02:03:50 +0000 2018          2         #fato   \n",
              "17419  Tue Sep 11 20:50:00 +0000 2018          2  jornaloglobo   \n",
              "42936  Tue Sep 11 20:50:00 +0000 2018          2         #fato   \n",
              "18026  Wed Sep 12 21:20:00 +0000 2018          2         #fato   \n",
              "68291  Wed Sep 12 21:20:00 +0000 2018          2  jornaloglobo   \n",
              "30744  Thu Sep 13 23:10:00 +0000 2018          2         #fato   \n",
              "32410  Thu Sep 13 23:10:00 +0000 2018          2  jornaloglobo   \n",
              "28564  Sat Sep 15 13:14:36 +0000 2018          2         #fato   \n",
              "66221  Sat Sep 15 13:14:36 +0000 2018          2  jornaloglobo   \n",
              "4777   Thu Sep 20 21:39:00 +0000 2018          2  jornaloglobo   \n",
              "39007  Thu Sep 20 21:39:00 +0000 2018          2         #fato   \n",
              "87130  Sat Sep 22 15:30:00 +0000 2018          2         #fato   \n",
              "65328  Sat Sep 22 15:30:00 +0000 2018          2  jornaloglobo   \n",
              "48967  Fri Oct 12 13:58:23 +0000 2018          1            :)   \n",
              "34464  Fri Oct 12 13:58:23 +0000 2018          2     #trabalho   \n",
              "\n",
              "       tweet_text_length tweet_time tweet_period sentiment_name  \n",
              "39184                118   21:00:01        Night        Neutral  \n",
              "38913                118   21:00:01        Night        Neutral  \n",
              "35012                114   23:00:01        Night        Neutral  \n",
              "20226                114   23:00:01        Night        Neutral  \n",
              "39324                121   00:30:00         Dawn        Neutral  \n",
              "83565                121   00:30:00         Dawn        Neutral  \n",
              "69100                121   18:29:00        Night        Neutral  \n",
              "35849                121   18:29:00        Night        Neutral  \n",
              "62236                120   23:30:00        Night        Neutral  \n",
              "93665                120   23:30:00        Night        Neutral  \n",
              "21547                 95   02:03:50         Dawn        Neutral  \n",
              "56550                 95   02:03:50         Dawn        Neutral  \n",
              "17419                113   20:50:00        Night        Neutral  \n",
              "42936                113   20:50:00        Night        Neutral  \n",
              "18026                111   21:20:00        Night        Neutral  \n",
              "68291                111   21:20:00        Night        Neutral  \n",
              "30744                116   23:10:00        Night        Neutral  \n",
              "32410                116   23:10:00        Night        Neutral  \n",
              "28564                132   13:14:36    Afternoon        Neutral  \n",
              "66221                132   13:14:36    Afternoon        Neutral  \n",
              "4777                 132   21:39:00        Night        Neutral  \n",
              "39007                132   21:39:00        Night        Neutral  \n",
              "87130                128   15:30:00    Afternoon        Neutral  \n",
              "65328                128   15:30:00    Afternoon        Neutral  \n",
              "48967                159   13:58:23    Afternoon       Positive  \n",
              "34464                159   13:58:23    Afternoon        Neutral  "
            ]
          },
          "execution_count": 9,
          "metadata": {},
          "output_type": "execute_result"
        }
      ],
      "source": [
        "duplicated_ids = _df[_df[\"id\"].duplicated()][\"id\"]\n",
        "\n",
        "_df.query(\"id in @duplicated_ids\").sort_values(\"id\")"
      ]
    },
    {
      "cell_type": "markdown",
      "id": "d66ae64a",
      "metadata": {
        "id": "d66ae64a"
      },
      "source": [
        "## Análise dos dados pela query\n",
        "\n",
        "As queries possuem alto víes. Cada query possui apenas um sentimento relacionado."
      ]
    },
    {
      "cell_type": "code",
      "execution_count": null,
      "id": "2703e564",
      "metadata": {
        "colab": {
          "base_uri": "https://localhost:8080/"
        },
        "id": "2703e564",
        "outputId": "a8a4a790-8efc-4fe4-f687-858d2f4b3e3f"
      },
      "outputs": [
        {
          "data": {
            "text/plain": [
              "array(['folha', ':(', 'exame', ':)', '#fato', 'g1', '#novidade',\n",
              "       '#noticia', 'estadao', 'jornaloglobo', '#curiosidade',\n",
              "       '#oportunidade', 'veja', '#trabalho'], dtype=object)"
            ]
          },
          "execution_count": 10,
          "metadata": {},
          "output_type": "execute_result"
        }
      ],
      "source": [
        "queries = _df[\"query_used\"].unique()\n",
        "\n",
        "queries"
      ]
    },
    {
      "cell_type": "code",
      "execution_count": null,
      "id": "89053bb5",
      "metadata": {
        "colab": {
          "base_uri": "https://localhost:8080/"
        },
        "id": "89053bb5",
        "outputId": "1226ebfe-cb92-45e4-aef1-15df8344319a"
      },
      "outputs": [
        {
          "name": "stdout",
          "output_type": "stream",
          "text": [
            "========================================\n",
            "Query: folha\n",
            "Sentiment: Neutral | Counted: 5004\n",
            "========================================\n",
            "Query: :(\n",
            "Sentiment: Negative | Counted: 31696\n",
            "========================================\n",
            "Query: exame\n",
            "Sentiment: Neutral | Counted: 3417\n",
            "========================================\n",
            "Query: :)\n",
            "Sentiment: Positive | Counted: 31678\n",
            "========================================\n",
            "Query: #fato\n",
            "Sentiment: Neutral | Counted: 3471\n",
            "========================================\n",
            "Query: g1\n",
            "Sentiment: Neutral | Counted: 3439\n",
            "========================================\n",
            "Query: #novidade\n",
            "Sentiment: Neutral | Counted: 920\n",
            "========================================\n",
            "Query: #noticia\n",
            "Sentiment: Neutral | Counted: 1114\n",
            "========================================\n",
            "Query: estadao\n",
            "Sentiment: Neutral | Counted: 3880\n",
            "========================================\n",
            "Query: jornaloglobo\n",
            "Sentiment: Neutral | Counted: 2374\n",
            "========================================\n",
            "Query: #curiosidade\n",
            "Sentiment: Neutral | Counted: 381\n",
            "========================================\n",
            "Query: #oportunidade\n",
            "Sentiment: Neutral | Counted: 2455\n",
            "========================================\n",
            "Query: veja\n",
            "Sentiment: Neutral | Counted: 2141\n",
            "========================================\n",
            "Query: #trabalho\n",
            "Sentiment: Neutral | Counted: 3030\n"
          ]
        }
      ],
      "source": [
        "sentiment_by_queries = []\n",
        "\n",
        "for query in queries:\n",
        "    df_by_query = _df[_df[\"query_used\"] == query]\n",
        "\n",
        "    print(\"=\" * 40)\n",
        "    print(f\"Query: {query}\")\n",
        "\n",
        "    sentiment_counted = df_by_query['sentiment_name'].value_counts()\n",
        "    sentiment_counted_dict = sentiment_counted.to_dict()\n",
        "\n",
        "    for (key, value) in list(sentiment_counted_dict.items()):\n",
        "        print(f\"Sentiment: {key} | Counted: {value}\")\n",
        "\n",
        "        sentiment_by_query = {\n",
        "            \"sentiment_name\": key,\n",
        "            \"counted\": value,\n",
        "            \"query\": query,\n",
        "        }\n",
        "\n",
        "        sentiment_by_queries.append(sentiment_by_query)"
      ]
    },
    {
      "cell_type": "code",
      "execution_count": null,
      "id": "54dcf14b",
      "metadata": {
        "id": "54dcf14b"
      },
      "outputs": [],
      "source": [
        "sentiment_by_queries_df = pd.DataFrame(sentiment_by_queries)"
      ]
    },
    {
      "cell_type": "code",
      "execution_count": null,
      "id": "8d2AUio3vS17",
      "metadata": {
        "colab": {
          "base_uri": "https://localhost:8080/",
          "height": 542
        },
        "id": "8d2AUio3vS17",
        "outputId": "dcfbfe42-76a5-4c97-a767-5d3ebc25c4a5"
      },
      "outputs": [
        {
          "data": {
            "text/html": [
              "<html>\n",
              "<head><meta charset=\"utf-8\" /></head>\n",
              "<body>\n",
              "    <div>            <script src=\"https://cdnjs.cloudflare.com/ajax/libs/mathjax/2.7.5/MathJax.js?config=TeX-AMS-MML_SVG\"></script><script type=\"text/javascript\">if (window.MathJax) {MathJax.Hub.Config({SVG: {font: \"STIX-Web\"}});}</script>                <script type=\"text/javascript\">window.PlotlyConfig = {MathJaxConfig: 'local'};</script>\n",
              "        <script src=\"https://cdn.plot.ly/plotly-2.8.3.min.js\"></script>                <div id=\"401fb392-b01d-48f3-82b5-fd226f38557f\" class=\"plotly-graph-div\" style=\"height:525px; width:100%;\"></div>            <script type=\"text/javascript\">                                    window.PLOTLYENV=window.PLOTLYENV || {};                                    if (document.getElementById(\"401fb392-b01d-48f3-82b5-fd226f38557f\")) {                    Plotly.newPlot(                        \"401fb392-b01d-48f3-82b5-fd226f38557f\",                        [{\"alignmentgroup\":\"True\",\"hovertemplate\":\"sentiment_name=Neutral<br>query=%{x}<br>counted=%{y}<extra></extra>\",\"legendgroup\":\"Neutral\",\"marker\":{\"color\":\"#636efa\",\"pattern\":{\"shape\":\"\"}},\"name\":\"Neutral\",\"offsetgroup\":\"Neutral\",\"orientation\":\"v\",\"showlegend\":true,\"textposition\":\"auto\",\"x\":[\"folha\",\"exame\",\"#fato\",\"g1\",\"#novidade\",\"#noticia\",\"estadao\",\"jornaloglobo\",\"#curiosidade\",\"#oportunidade\",\"veja\",\"#trabalho\"],\"xaxis\":\"x\",\"y\":[5004,3417,3471,3439,920,1114,3880,2374,381,2455,2141,3030],\"yaxis\":\"y\",\"type\":\"bar\"},{\"alignmentgroup\":\"True\",\"hovertemplate\":\"sentiment_name=Negative<br>query=%{x}<br>counted=%{y}<extra></extra>\",\"legendgroup\":\"Negative\",\"marker\":{\"color\":\"#EF553B\",\"pattern\":{\"shape\":\"\"}},\"name\":\"Negative\",\"offsetgroup\":\"Negative\",\"orientation\":\"v\",\"showlegend\":true,\"textposition\":\"auto\",\"x\":[\":(\"],\"xaxis\":\"x\",\"y\":[31696],\"yaxis\":\"y\",\"type\":\"bar\"},{\"alignmentgroup\":\"True\",\"hovertemplate\":\"sentiment_name=Positive<br>query=%{x}<br>counted=%{y}<extra></extra>\",\"legendgroup\":\"Positive\",\"marker\":{\"color\":\"#00cc96\",\"pattern\":{\"shape\":\"\"}},\"name\":\"Positive\",\"offsetgroup\":\"Positive\",\"orientation\":\"v\",\"showlegend\":true,\"textposition\":\"auto\",\"x\":[\":)\"],\"xaxis\":\"x\",\"y\":[31678],\"yaxis\":\"y\",\"type\":\"bar\"}],                        {\"template\":{\"data\":{\"bar\":[{\"error_x\":{\"color\":\"#2a3f5f\"},\"error_y\":{\"color\":\"#2a3f5f\"},\"marker\":{\"line\":{\"color\":\"#E5ECF6\",\"width\":0.5},\"pattern\":{\"fillmode\":\"overlay\",\"size\":10,\"solidity\":0.2}},\"type\":\"bar\"}],\"barpolar\":[{\"marker\":{\"line\":{\"color\":\"#E5ECF6\",\"width\":0.5},\"pattern\":{\"fillmode\":\"overlay\",\"size\":10,\"solidity\":0.2}},\"type\":\"barpolar\"}],\"carpet\":[{\"aaxis\":{\"endlinecolor\":\"#2a3f5f\",\"gridcolor\":\"white\",\"linecolor\":\"white\",\"minorgridcolor\":\"white\",\"startlinecolor\":\"#2a3f5f\"},\"baxis\":{\"endlinecolor\":\"#2a3f5f\",\"gridcolor\":\"white\",\"linecolor\":\"white\",\"minorgridcolor\":\"white\",\"startlinecolor\":\"#2a3f5f\"},\"type\":\"carpet\"}],\"choropleth\":[{\"colorbar\":{\"outlinewidth\":0,\"ticks\":\"\"},\"type\":\"choropleth\"}],\"contour\":[{\"colorbar\":{\"outlinewidth\":0,\"ticks\":\"\"},\"colorscale\":[[0.0,\"#0d0887\"],[0.1111111111111111,\"#46039f\"],[0.2222222222222222,\"#7201a8\"],[0.3333333333333333,\"#9c179e\"],[0.4444444444444444,\"#bd3786\"],[0.5555555555555556,\"#d8576b\"],[0.6666666666666666,\"#ed7953\"],[0.7777777777777778,\"#fb9f3a\"],[0.8888888888888888,\"#fdca26\"],[1.0,\"#f0f921\"]],\"type\":\"contour\"}],\"contourcarpet\":[{\"colorbar\":{\"outlinewidth\":0,\"ticks\":\"\"},\"type\":\"contourcarpet\"}],\"heatmap\":[{\"colorbar\":{\"outlinewidth\":0,\"ticks\":\"\"},\"colorscale\":[[0.0,\"#0d0887\"],[0.1111111111111111,\"#46039f\"],[0.2222222222222222,\"#7201a8\"],[0.3333333333333333,\"#9c179e\"],[0.4444444444444444,\"#bd3786\"],[0.5555555555555556,\"#d8576b\"],[0.6666666666666666,\"#ed7953\"],[0.7777777777777778,\"#fb9f3a\"],[0.8888888888888888,\"#fdca26\"],[1.0,\"#f0f921\"]],\"type\":\"heatmap\"}],\"heatmapgl\":[{\"colorbar\":{\"outlinewidth\":0,\"ticks\":\"\"},\"colorscale\":[[0.0,\"#0d0887\"],[0.1111111111111111,\"#46039f\"],[0.2222222222222222,\"#7201a8\"],[0.3333333333333333,\"#9c179e\"],[0.4444444444444444,\"#bd3786\"],[0.5555555555555556,\"#d8576b\"],[0.6666666666666666,\"#ed7953\"],[0.7777777777777778,\"#fb9f3a\"],[0.8888888888888888,\"#fdca26\"],[1.0,\"#f0f921\"]],\"type\":\"heatmapgl\"}],\"histogram\":[{\"marker\":{\"pattern\":{\"fillmode\":\"overlay\",\"size\":10,\"solidity\":0.2}},\"type\":\"histogram\"}],\"histogram2d\":[{\"colorbar\":{\"outlinewidth\":0,\"ticks\":\"\"},\"colorscale\":[[0.0,\"#0d0887\"],[0.1111111111111111,\"#46039f\"],[0.2222222222222222,\"#7201a8\"],[0.3333333333333333,\"#9c179e\"],[0.4444444444444444,\"#bd3786\"],[0.5555555555555556,\"#d8576b\"],[0.6666666666666666,\"#ed7953\"],[0.7777777777777778,\"#fb9f3a\"],[0.8888888888888888,\"#fdca26\"],[1.0,\"#f0f921\"]],\"type\":\"histogram2d\"}],\"histogram2dcontour\":[{\"colorbar\":{\"outlinewidth\":0,\"ticks\":\"\"},\"colorscale\":[[0.0,\"#0d0887\"],[0.1111111111111111,\"#46039f\"],[0.2222222222222222,\"#7201a8\"],[0.3333333333333333,\"#9c179e\"],[0.4444444444444444,\"#bd3786\"],[0.5555555555555556,\"#d8576b\"],[0.6666666666666666,\"#ed7953\"],[0.7777777777777778,\"#fb9f3a\"],[0.8888888888888888,\"#fdca26\"],[1.0,\"#f0f921\"]],\"type\":\"histogram2dcontour\"}],\"mesh3d\":[{\"colorbar\":{\"outlinewidth\":0,\"ticks\":\"\"},\"type\":\"mesh3d\"}],\"parcoords\":[{\"line\":{\"colorbar\":{\"outlinewidth\":0,\"ticks\":\"\"}},\"type\":\"parcoords\"}],\"pie\":[{\"automargin\":true,\"type\":\"pie\"}],\"scatter\":[{\"marker\":{\"colorbar\":{\"outlinewidth\":0,\"ticks\":\"\"}},\"type\":\"scatter\"}],\"scatter3d\":[{\"line\":{\"colorbar\":{\"outlinewidth\":0,\"ticks\":\"\"}},\"marker\":{\"colorbar\":{\"outlinewidth\":0,\"ticks\":\"\"}},\"type\":\"scatter3d\"}],\"scattercarpet\":[{\"marker\":{\"colorbar\":{\"outlinewidth\":0,\"ticks\":\"\"}},\"type\":\"scattercarpet\"}],\"scattergeo\":[{\"marker\":{\"colorbar\":{\"outlinewidth\":0,\"ticks\":\"\"}},\"type\":\"scattergeo\"}],\"scattergl\":[{\"marker\":{\"colorbar\":{\"outlinewidth\":0,\"ticks\":\"\"}},\"type\":\"scattergl\"}],\"scattermapbox\":[{\"marker\":{\"colorbar\":{\"outlinewidth\":0,\"ticks\":\"\"}},\"type\":\"scattermapbox\"}],\"scatterpolar\":[{\"marker\":{\"colorbar\":{\"outlinewidth\":0,\"ticks\":\"\"}},\"type\":\"scatterpolar\"}],\"scatterpolargl\":[{\"marker\":{\"colorbar\":{\"outlinewidth\":0,\"ticks\":\"\"}},\"type\":\"scatterpolargl\"}],\"scatterternary\":[{\"marker\":{\"colorbar\":{\"outlinewidth\":0,\"ticks\":\"\"}},\"type\":\"scatterternary\"}],\"surface\":[{\"colorbar\":{\"outlinewidth\":0,\"ticks\":\"\"},\"colorscale\":[[0.0,\"#0d0887\"],[0.1111111111111111,\"#46039f\"],[0.2222222222222222,\"#7201a8\"],[0.3333333333333333,\"#9c179e\"],[0.4444444444444444,\"#bd3786\"],[0.5555555555555556,\"#d8576b\"],[0.6666666666666666,\"#ed7953\"],[0.7777777777777778,\"#fb9f3a\"],[0.8888888888888888,\"#fdca26\"],[1.0,\"#f0f921\"]],\"type\":\"surface\"}],\"table\":[{\"cells\":{\"fill\":{\"color\":\"#EBF0F8\"},\"line\":{\"color\":\"white\"}},\"header\":{\"fill\":{\"color\":\"#C8D4E3\"},\"line\":{\"color\":\"white\"}},\"type\":\"table\"}]},\"layout\":{\"annotationdefaults\":{\"arrowcolor\":\"#2a3f5f\",\"arrowhead\":0,\"arrowwidth\":1},\"autotypenumbers\":\"strict\",\"coloraxis\":{\"colorbar\":{\"outlinewidth\":0,\"ticks\":\"\"}},\"colorscale\":{\"diverging\":[[0,\"#8e0152\"],[0.1,\"#c51b7d\"],[0.2,\"#de77ae\"],[0.3,\"#f1b6da\"],[0.4,\"#fde0ef\"],[0.5,\"#f7f7f7\"],[0.6,\"#e6f5d0\"],[0.7,\"#b8e186\"],[0.8,\"#7fbc41\"],[0.9,\"#4d9221\"],[1,\"#276419\"]],\"sequential\":[[0.0,\"#0d0887\"],[0.1111111111111111,\"#46039f\"],[0.2222222222222222,\"#7201a8\"],[0.3333333333333333,\"#9c179e\"],[0.4444444444444444,\"#bd3786\"],[0.5555555555555556,\"#d8576b\"],[0.6666666666666666,\"#ed7953\"],[0.7777777777777778,\"#fb9f3a\"],[0.8888888888888888,\"#fdca26\"],[1.0,\"#f0f921\"]],\"sequentialminus\":[[0.0,\"#0d0887\"],[0.1111111111111111,\"#46039f\"],[0.2222222222222222,\"#7201a8\"],[0.3333333333333333,\"#9c179e\"],[0.4444444444444444,\"#bd3786\"],[0.5555555555555556,\"#d8576b\"],[0.6666666666666666,\"#ed7953\"],[0.7777777777777778,\"#fb9f3a\"],[0.8888888888888888,\"#fdca26\"],[1.0,\"#f0f921\"]]},\"colorway\":[\"#636efa\",\"#EF553B\",\"#00cc96\",\"#ab63fa\",\"#FFA15A\",\"#19d3f3\",\"#FF6692\",\"#B6E880\",\"#FF97FF\",\"#FECB52\"],\"font\":{\"color\":\"#2a3f5f\"},\"geo\":{\"bgcolor\":\"white\",\"lakecolor\":\"white\",\"landcolor\":\"#E5ECF6\",\"showlakes\":true,\"showland\":true,\"subunitcolor\":\"white\"},\"hoverlabel\":{\"align\":\"left\"},\"hovermode\":\"closest\",\"mapbox\":{\"style\":\"light\"},\"paper_bgcolor\":\"white\",\"plot_bgcolor\":\"#E5ECF6\",\"polar\":{\"angularaxis\":{\"gridcolor\":\"white\",\"linecolor\":\"white\",\"ticks\":\"\"},\"bgcolor\":\"#E5ECF6\",\"radialaxis\":{\"gridcolor\":\"white\",\"linecolor\":\"white\",\"ticks\":\"\"}},\"scene\":{\"xaxis\":{\"backgroundcolor\":\"#E5ECF6\",\"gridcolor\":\"white\",\"gridwidth\":2,\"linecolor\":\"white\",\"showbackground\":true,\"ticks\":\"\",\"zerolinecolor\":\"white\"},\"yaxis\":{\"backgroundcolor\":\"#E5ECF6\",\"gridcolor\":\"white\",\"gridwidth\":2,\"linecolor\":\"white\",\"showbackground\":true,\"ticks\":\"\",\"zerolinecolor\":\"white\"},\"zaxis\":{\"backgroundcolor\":\"#E5ECF6\",\"gridcolor\":\"white\",\"gridwidth\":2,\"linecolor\":\"white\",\"showbackground\":true,\"ticks\":\"\",\"zerolinecolor\":\"white\"}},\"shapedefaults\":{\"line\":{\"color\":\"#2a3f5f\"}},\"ternary\":{\"aaxis\":{\"gridcolor\":\"white\",\"linecolor\":\"white\",\"ticks\":\"\"},\"baxis\":{\"gridcolor\":\"white\",\"linecolor\":\"white\",\"ticks\":\"\"},\"bgcolor\":\"#E5ECF6\",\"caxis\":{\"gridcolor\":\"white\",\"linecolor\":\"white\",\"ticks\":\"\"}},\"title\":{\"x\":0.05},\"xaxis\":{\"automargin\":true,\"gridcolor\":\"white\",\"linecolor\":\"white\",\"ticks\":\"\",\"title\":{\"standoff\":15},\"zerolinecolor\":\"white\",\"zerolinewidth\":2},\"yaxis\":{\"automargin\":true,\"gridcolor\":\"white\",\"linecolor\":\"white\",\"ticks\":\"\",\"title\":{\"standoff\":15},\"zerolinecolor\":\"white\",\"zerolinewidth\":2}}},\"xaxis\":{\"anchor\":\"y\",\"domain\":[0.0,1.0],\"title\":{\"text\":\"Query\"}},\"yaxis\":{\"anchor\":\"x\",\"domain\":[0.0,1.0],\"title\":{\"text\":\"Number of tweets\"}},\"legend\":{\"title\":{\"text\":\"sentiment_name\"},\"tracegroupgap\":0},\"title\":{\"text\":\"Query by number of tweets\"},\"barmode\":\"group\"},                        {\"responsive\": true}                    ).then(function(){\n",
              "                            \n",
              "var gd = document.getElementById('401fb392-b01d-48f3-82b5-fd226f38557f');\n",
              "var x = new MutationObserver(function (mutations, observer) {{\n",
              "        var display = window.getComputedStyle(gd).display;\n",
              "        if (!display || display === 'none') {{\n",
              "            console.log([gd, 'removed!']);\n",
              "            Plotly.purge(gd);\n",
              "            observer.disconnect();\n",
              "        }}\n",
              "}});\n",
              "\n",
              "// Listen for the removal of the full notebook cells\n",
              "var notebookContainer = gd.closest('#notebook-container');\n",
              "if (notebookContainer) {{\n",
              "    x.observe(notebookContainer, {childList: true});\n",
              "}}\n",
              "\n",
              "// Listen for the clearing of the current output cell\n",
              "var outputEl = gd.closest('.output');\n",
              "if (outputEl) {{\n",
              "    x.observe(outputEl, {childList: true});\n",
              "}}\n",
              "\n",
              "                        })                };                            </script>        </div>\n",
              "</body>\n",
              "</html>"
            ]
          },
          "metadata": {},
          "output_type": "display_data"
        }
      ],
      "source": [
        "data = sentiment_by_queries_df.copy()\n",
        "\n",
        "fig = px.bar(\n",
        "    data,\n",
        "    x=\"query\",\n",
        "    y=\"counted\",\n",
        "    color=\"sentiment_name\",\n",
        "    title='Query by number of tweets',\n",
        "    barmode='group',\n",
        ")\n",
        "\n",
        "fig.update_xaxes(title=\"Query\")\n",
        "fig.update_yaxes(title=\"Number of tweets\")\n",
        "\n",
        "fig.show()"
      ]
    },
    {
      "cell_type": "markdown",
      "id": "2bb43f36",
      "metadata": {
        "id": "2bb43f36"
      },
      "source": [
        "# Análise exploratória"
      ]
    },
    {
      "cell_type": "markdown",
      "id": "5832c2bb",
      "metadata": {
        "id": "5832c2bb"
      },
      "source": [
        "## Verifica tamanho do campo ```tweet_text```\n",
        "\n",
        "Verificando o tamanho do campo ```tweet_text``` observa-se que tweets com maior tamanho em média são neutros, os tweets com menor tamanho em média são negativos e os tweets positivos ficaram com tamanho intermediário."
      ]
    },
    {
      "cell_type": "code",
      "execution_count": null,
      "id": "6111f6c9",
      "metadata": {
        "colab": {
          "base_uri": "https://localhost:8080/",
          "height": 542
        },
        "id": "6111f6c9",
        "outputId": "ac156177-035f-46a9-e253-8c77f58da0c6"
      },
      "outputs": [
        {
          "data": {
            "text/html": [
              "<html>\n",
              "<head><meta charset=\"utf-8\" /></head>\n",
              "<body>\n",
              "    <div>            <script src=\"https://cdnjs.cloudflare.com/ajax/libs/mathjax/2.7.5/MathJax.js?config=TeX-AMS-MML_SVG\"></script><script type=\"text/javascript\">if (window.MathJax) {MathJax.Hub.Config({SVG: {font: \"STIX-Web\"}});}</script>                <script type=\"text/javascript\">window.PlotlyConfig = {MathJaxConfig: 'local'};</script>\n",
              "        <script src=\"https://cdn.plot.ly/plotly-2.8.3.min.js\"></script>                <div id=\"b8ab3887-94d9-4716-85ff-62f9f97d2c1e\" class=\"plotly-graph-div\" style=\"height:525px; width:100%;\"></div>            <script type=\"text/javascript\">                                    window.PLOTLYENV=window.PLOTLYENV || {};                                    if (document.getElementById(\"b8ab3887-94d9-4716-85ff-62f9f97d2c1e\")) {                    Plotly.newPlot(                        \"b8ab3887-94d9-4716-85ff-62f9f97d2c1e\",                        [{\"hovertemplate\":\"sentiment_name=%{x}<br>tweet_text_length=%{y}<extra></extra>\",\"legendgroup\":\"\",\"line\":{\"color\":\"#636efa\",\"dash\":\"solid\"},\"marker\":{\"symbol\":\"circle\"},\"mode\":\"lines\",\"name\":\"\",\"orientation\":\"v\",\"showlegend\":false,\"x\":[\"Negative\",\"Neutral\",\"Positive\"],\"xaxis\":\"x\",\"y\":[72.89938793538617,128.66217669006514,89.76276911421175],\"yaxis\":\"y\",\"type\":\"scatter\"}],                        {\"template\":{\"data\":{\"bar\":[{\"error_x\":{\"color\":\"#2a3f5f\"},\"error_y\":{\"color\":\"#2a3f5f\"},\"marker\":{\"line\":{\"color\":\"#E5ECF6\",\"width\":0.5},\"pattern\":{\"fillmode\":\"overlay\",\"size\":10,\"solidity\":0.2}},\"type\":\"bar\"}],\"barpolar\":[{\"marker\":{\"line\":{\"color\":\"#E5ECF6\",\"width\":0.5},\"pattern\":{\"fillmode\":\"overlay\",\"size\":10,\"solidity\":0.2}},\"type\":\"barpolar\"}],\"carpet\":[{\"aaxis\":{\"endlinecolor\":\"#2a3f5f\",\"gridcolor\":\"white\",\"linecolor\":\"white\",\"minorgridcolor\":\"white\",\"startlinecolor\":\"#2a3f5f\"},\"baxis\":{\"endlinecolor\":\"#2a3f5f\",\"gridcolor\":\"white\",\"linecolor\":\"white\",\"minorgridcolor\":\"white\",\"startlinecolor\":\"#2a3f5f\"},\"type\":\"carpet\"}],\"choropleth\":[{\"colorbar\":{\"outlinewidth\":0,\"ticks\":\"\"},\"type\":\"choropleth\"}],\"contour\":[{\"colorbar\":{\"outlinewidth\":0,\"ticks\":\"\"},\"colorscale\":[[0.0,\"#0d0887\"],[0.1111111111111111,\"#46039f\"],[0.2222222222222222,\"#7201a8\"],[0.3333333333333333,\"#9c179e\"],[0.4444444444444444,\"#bd3786\"],[0.5555555555555556,\"#d8576b\"],[0.6666666666666666,\"#ed7953\"],[0.7777777777777778,\"#fb9f3a\"],[0.8888888888888888,\"#fdca26\"],[1.0,\"#f0f921\"]],\"type\":\"contour\"}],\"contourcarpet\":[{\"colorbar\":{\"outlinewidth\":0,\"ticks\":\"\"},\"type\":\"contourcarpet\"}],\"heatmap\":[{\"colorbar\":{\"outlinewidth\":0,\"ticks\":\"\"},\"colorscale\":[[0.0,\"#0d0887\"],[0.1111111111111111,\"#46039f\"],[0.2222222222222222,\"#7201a8\"],[0.3333333333333333,\"#9c179e\"],[0.4444444444444444,\"#bd3786\"],[0.5555555555555556,\"#d8576b\"],[0.6666666666666666,\"#ed7953\"],[0.7777777777777778,\"#fb9f3a\"],[0.8888888888888888,\"#fdca26\"],[1.0,\"#f0f921\"]],\"type\":\"heatmap\"}],\"heatmapgl\":[{\"colorbar\":{\"outlinewidth\":0,\"ticks\":\"\"},\"colorscale\":[[0.0,\"#0d0887\"],[0.1111111111111111,\"#46039f\"],[0.2222222222222222,\"#7201a8\"],[0.3333333333333333,\"#9c179e\"],[0.4444444444444444,\"#bd3786\"],[0.5555555555555556,\"#d8576b\"],[0.6666666666666666,\"#ed7953\"],[0.7777777777777778,\"#fb9f3a\"],[0.8888888888888888,\"#fdca26\"],[1.0,\"#f0f921\"]],\"type\":\"heatmapgl\"}],\"histogram\":[{\"marker\":{\"pattern\":{\"fillmode\":\"overlay\",\"size\":10,\"solidity\":0.2}},\"type\":\"histogram\"}],\"histogram2d\":[{\"colorbar\":{\"outlinewidth\":0,\"ticks\":\"\"},\"colorscale\":[[0.0,\"#0d0887\"],[0.1111111111111111,\"#46039f\"],[0.2222222222222222,\"#7201a8\"],[0.3333333333333333,\"#9c179e\"],[0.4444444444444444,\"#bd3786\"],[0.5555555555555556,\"#d8576b\"],[0.6666666666666666,\"#ed7953\"],[0.7777777777777778,\"#fb9f3a\"],[0.8888888888888888,\"#fdca26\"],[1.0,\"#f0f921\"]],\"type\":\"histogram2d\"}],\"histogram2dcontour\":[{\"colorbar\":{\"outlinewidth\":0,\"ticks\":\"\"},\"colorscale\":[[0.0,\"#0d0887\"],[0.1111111111111111,\"#46039f\"],[0.2222222222222222,\"#7201a8\"],[0.3333333333333333,\"#9c179e\"],[0.4444444444444444,\"#bd3786\"],[0.5555555555555556,\"#d8576b\"],[0.6666666666666666,\"#ed7953\"],[0.7777777777777778,\"#fb9f3a\"],[0.8888888888888888,\"#fdca26\"],[1.0,\"#f0f921\"]],\"type\":\"histogram2dcontour\"}],\"mesh3d\":[{\"colorbar\":{\"outlinewidth\":0,\"ticks\":\"\"},\"type\":\"mesh3d\"}],\"parcoords\":[{\"line\":{\"colorbar\":{\"outlinewidth\":0,\"ticks\":\"\"}},\"type\":\"parcoords\"}],\"pie\":[{\"automargin\":true,\"type\":\"pie\"}],\"scatter\":[{\"marker\":{\"colorbar\":{\"outlinewidth\":0,\"ticks\":\"\"}},\"type\":\"scatter\"}],\"scatter3d\":[{\"line\":{\"colorbar\":{\"outlinewidth\":0,\"ticks\":\"\"}},\"marker\":{\"colorbar\":{\"outlinewidth\":0,\"ticks\":\"\"}},\"type\":\"scatter3d\"}],\"scattercarpet\":[{\"marker\":{\"colorbar\":{\"outlinewidth\":0,\"ticks\":\"\"}},\"type\":\"scattercarpet\"}],\"scattergeo\":[{\"marker\":{\"colorbar\":{\"outlinewidth\":0,\"ticks\":\"\"}},\"type\":\"scattergeo\"}],\"scattergl\":[{\"marker\":{\"colorbar\":{\"outlinewidth\":0,\"ticks\":\"\"}},\"type\":\"scattergl\"}],\"scattermapbox\":[{\"marker\":{\"colorbar\":{\"outlinewidth\":0,\"ticks\":\"\"}},\"type\":\"scattermapbox\"}],\"scatterpolar\":[{\"marker\":{\"colorbar\":{\"outlinewidth\":0,\"ticks\":\"\"}},\"type\":\"scatterpolar\"}],\"scatterpolargl\":[{\"marker\":{\"colorbar\":{\"outlinewidth\":0,\"ticks\":\"\"}},\"type\":\"scatterpolargl\"}],\"scatterternary\":[{\"marker\":{\"colorbar\":{\"outlinewidth\":0,\"ticks\":\"\"}},\"type\":\"scatterternary\"}],\"surface\":[{\"colorbar\":{\"outlinewidth\":0,\"ticks\":\"\"},\"colorscale\":[[0.0,\"#0d0887\"],[0.1111111111111111,\"#46039f\"],[0.2222222222222222,\"#7201a8\"],[0.3333333333333333,\"#9c179e\"],[0.4444444444444444,\"#bd3786\"],[0.5555555555555556,\"#d8576b\"],[0.6666666666666666,\"#ed7953\"],[0.7777777777777778,\"#fb9f3a\"],[0.8888888888888888,\"#fdca26\"],[1.0,\"#f0f921\"]],\"type\":\"surface\"}],\"table\":[{\"cells\":{\"fill\":{\"color\":\"#EBF0F8\"},\"line\":{\"color\":\"white\"}},\"header\":{\"fill\":{\"color\":\"#C8D4E3\"},\"line\":{\"color\":\"white\"}},\"type\":\"table\"}]},\"layout\":{\"annotationdefaults\":{\"arrowcolor\":\"#2a3f5f\",\"arrowhead\":0,\"arrowwidth\":1},\"autotypenumbers\":\"strict\",\"coloraxis\":{\"colorbar\":{\"outlinewidth\":0,\"ticks\":\"\"}},\"colorscale\":{\"diverging\":[[0,\"#8e0152\"],[0.1,\"#c51b7d\"],[0.2,\"#de77ae\"],[0.3,\"#f1b6da\"],[0.4,\"#fde0ef\"],[0.5,\"#f7f7f7\"],[0.6,\"#e6f5d0\"],[0.7,\"#b8e186\"],[0.8,\"#7fbc41\"],[0.9,\"#4d9221\"],[1,\"#276419\"]],\"sequential\":[[0.0,\"#0d0887\"],[0.1111111111111111,\"#46039f\"],[0.2222222222222222,\"#7201a8\"],[0.3333333333333333,\"#9c179e\"],[0.4444444444444444,\"#bd3786\"],[0.5555555555555556,\"#d8576b\"],[0.6666666666666666,\"#ed7953\"],[0.7777777777777778,\"#fb9f3a\"],[0.8888888888888888,\"#fdca26\"],[1.0,\"#f0f921\"]],\"sequentialminus\":[[0.0,\"#0d0887\"],[0.1111111111111111,\"#46039f\"],[0.2222222222222222,\"#7201a8\"],[0.3333333333333333,\"#9c179e\"],[0.4444444444444444,\"#bd3786\"],[0.5555555555555556,\"#d8576b\"],[0.6666666666666666,\"#ed7953\"],[0.7777777777777778,\"#fb9f3a\"],[0.8888888888888888,\"#fdca26\"],[1.0,\"#f0f921\"]]},\"colorway\":[\"#636efa\",\"#EF553B\",\"#00cc96\",\"#ab63fa\",\"#FFA15A\",\"#19d3f3\",\"#FF6692\",\"#B6E880\",\"#FF97FF\",\"#FECB52\"],\"font\":{\"color\":\"#2a3f5f\"},\"geo\":{\"bgcolor\":\"white\",\"lakecolor\":\"white\",\"landcolor\":\"#E5ECF6\",\"showlakes\":true,\"showland\":true,\"subunitcolor\":\"white\"},\"hoverlabel\":{\"align\":\"left\"},\"hovermode\":\"closest\",\"mapbox\":{\"style\":\"light\"},\"paper_bgcolor\":\"white\",\"plot_bgcolor\":\"#E5ECF6\",\"polar\":{\"angularaxis\":{\"gridcolor\":\"white\",\"linecolor\":\"white\",\"ticks\":\"\"},\"bgcolor\":\"#E5ECF6\",\"radialaxis\":{\"gridcolor\":\"white\",\"linecolor\":\"white\",\"ticks\":\"\"}},\"scene\":{\"xaxis\":{\"backgroundcolor\":\"#E5ECF6\",\"gridcolor\":\"white\",\"gridwidth\":2,\"linecolor\":\"white\",\"showbackground\":true,\"ticks\":\"\",\"zerolinecolor\":\"white\"},\"yaxis\":{\"backgroundcolor\":\"#E5ECF6\",\"gridcolor\":\"white\",\"gridwidth\":2,\"linecolor\":\"white\",\"showbackground\":true,\"ticks\":\"\",\"zerolinecolor\":\"white\"},\"zaxis\":{\"backgroundcolor\":\"#E5ECF6\",\"gridcolor\":\"white\",\"gridwidth\":2,\"linecolor\":\"white\",\"showbackground\":true,\"ticks\":\"\",\"zerolinecolor\":\"white\"}},\"shapedefaults\":{\"line\":{\"color\":\"#2a3f5f\"}},\"ternary\":{\"aaxis\":{\"gridcolor\":\"white\",\"linecolor\":\"white\",\"ticks\":\"\"},\"baxis\":{\"gridcolor\":\"white\",\"linecolor\":\"white\",\"ticks\":\"\"},\"bgcolor\":\"#E5ECF6\",\"caxis\":{\"gridcolor\":\"white\",\"linecolor\":\"white\",\"ticks\":\"\"}},\"title\":{\"x\":0.05},\"xaxis\":{\"automargin\":true,\"gridcolor\":\"white\",\"linecolor\":\"white\",\"ticks\":\"\",\"title\":{\"standoff\":15},\"zerolinecolor\":\"white\",\"zerolinewidth\":2},\"yaxis\":{\"automargin\":true,\"gridcolor\":\"white\",\"linecolor\":\"white\",\"ticks\":\"\",\"title\":{\"standoff\":15},\"zerolinecolor\":\"white\",\"zerolinewidth\":2}}},\"xaxis\":{\"anchor\":\"y\",\"domain\":[0.0,1.0],\"title\":{\"text\":\"Sentiment\"}},\"yaxis\":{\"anchor\":\"x\",\"domain\":[0.0,1.0],\"title\":{\"text\":\"Tweet text length\"}},\"legend\":{\"tracegroupgap\":0},\"title\":{\"text\":\"Sentiment by tweet text length\"}},                        {\"responsive\": true}                    ).then(function(){\n",
              "                            \n",
              "var gd = document.getElementById('b8ab3887-94d9-4716-85ff-62f9f97d2c1e');\n",
              "var x = new MutationObserver(function (mutations, observer) {{\n",
              "        var display = window.getComputedStyle(gd).display;\n",
              "        if (!display || display === 'none') {{\n",
              "            console.log([gd, 'removed!']);\n",
              "            Plotly.purge(gd);\n",
              "            observer.disconnect();\n",
              "        }}\n",
              "}});\n",
              "\n",
              "// Listen for the removal of the full notebook cells\n",
              "var notebookContainer = gd.closest('#notebook-container');\n",
              "if (notebookContainer) {{\n",
              "    x.observe(notebookContainer, {childList: true});\n",
              "}}\n",
              "\n",
              "// Listen for the clearing of the current output cell\n",
              "var outputEl = gd.closest('.output');\n",
              "if (outputEl) {{\n",
              "    x.observe(outputEl, {childList: true});\n",
              "}}\n",
              "\n",
              "                        })                };                            </script>        </div>\n",
              "</body>\n",
              "</html>"
            ]
          },
          "metadata": {},
          "output_type": "display_data"
        }
      ],
      "source": [
        "data = _df.groupby(by=\"sentiment_name\").mean().reset_index()[[\"sentiment_name\", \"tweet_text_length\"]]\n",
        "\n",
        "fig = px.line(data, x=\"sentiment_name\", y=\"tweet_text_length\", title='Sentiment by tweet text length')\n",
        "\n",
        "fig.update_xaxes(title=\"Sentiment\")\n",
        "fig.update_yaxes(title=\"Tweet text length\")\n",
        "\n",
        "fig.show()"
      ]
    },
    {
      "cell_type": "markdown",
      "id": "efc5d631",
      "metadata": {
        "id": "efc5d631"
      },
      "source": [
        "## Verificando a hora do tweet\n",
        "\n",
        "Verificando o período de cada tweet, foi possível verificar a maioria dos tweet no período do madrugada são negativos. Nos outros períodos, os sentimentos se distribuem de forma mais homogênea."
      ]
    },
    {
      "cell_type": "code",
      "execution_count": null,
      "id": "8555fb30",
      "metadata": {
        "colab": {
          "base_uri": "https://localhost:8080/",
          "height": 542
        },
        "id": "8555fb30",
        "outputId": "fd437777-de59-4ca5-b512-20fd6140f2bc"
      },
      "outputs": [
        {
          "data": {
            "text/html": [
              "<html>\n",
              "<head><meta charset=\"utf-8\" /></head>\n",
              "<body>\n",
              "    <div>            <script src=\"https://cdnjs.cloudflare.com/ajax/libs/mathjax/2.7.5/MathJax.js?config=TeX-AMS-MML_SVG\"></script><script type=\"text/javascript\">if (window.MathJax) {MathJax.Hub.Config({SVG: {font: \"STIX-Web\"}});}</script>                <script type=\"text/javascript\">window.PlotlyConfig = {MathJaxConfig: 'local'};</script>\n",
              "        <script src=\"https://cdn.plot.ly/plotly-2.8.3.min.js\"></script>                <div id=\"9eda9af7-1f75-468d-aed7-6fbbbe2d9c80\" class=\"plotly-graph-div\" style=\"height:525px; width:100%;\"></div>            <script type=\"text/javascript\">                                    window.PLOTLYENV=window.PLOTLYENV || {};                                    if (document.getElementById(\"9eda9af7-1f75-468d-aed7-6fbbbe2d9c80\")) {                    Plotly.newPlot(                        \"9eda9af7-1f75-468d-aed7-6fbbbe2d9c80\",                        [{\"alignmentgroup\":\"True\",\"hovertemplate\":\"tweet_period=Afternoon<br>sentiment_name=%{x}<br>total=%{y}<extra></extra>\",\"legendgroup\":\"Afternoon\",\"marker\":{\"color\":\"#636efa\",\"pattern\":{\"shape\":\"\"}},\"name\":\"Afternoon\",\"offsetgroup\":\"Afternoon\",\"orientation\":\"v\",\"showlegend\":true,\"textposition\":\"auto\",\"x\":[\"Negative\",\"Neutral\",\"Positive\"],\"xaxis\":\"x\",\"y\":[9801,11140,12679],\"yaxis\":\"y\",\"type\":\"bar\"},{\"alignmentgroup\":\"True\",\"hovertemplate\":\"tweet_period=Dawn<br>sentiment_name=%{x}<br>total=%{y}<extra></extra>\",\"legendgroup\":\"Dawn\",\"marker\":{\"color\":\"#EF553B\",\"pattern\":{\"shape\":\"\"}},\"name\":\"Dawn\",\"offsetgroup\":\"Dawn\",\"orientation\":\"v\",\"showlegend\":true,\"textposition\":\"auto\",\"x\":[\"Negative\",\"Neutral\",\"Positive\"],\"xaxis\":\"x\",\"y\":[16157,5009,8845],\"yaxis\":\"y\",\"type\":\"bar\"},{\"alignmentgroup\":\"True\",\"hovertemplate\":\"tweet_period=Morning<br>sentiment_name=%{x}<br>total=%{y}<extra></extra>\",\"legendgroup\":\"Morning\",\"marker\":{\"color\":\"#00cc96\",\"pattern\":{\"shape\":\"\"}},\"name\":\"Morning\",\"offsetgroup\":\"Morning\",\"orientation\":\"v\",\"showlegend\":true,\"textposition\":\"auto\",\"x\":[\"Negative\",\"Neutral\",\"Positive\"],\"xaxis\":\"x\",\"y\":[5738,4623,4202],\"yaxis\":\"y\",\"type\":\"bar\"},{\"alignmentgroup\":\"True\",\"hovertemplate\":\"tweet_period=Night<br>sentiment_name=%{x}<br>total=%{y}<extra></extra>\",\"legendgroup\":\"Night\",\"marker\":{\"color\":\"#ab63fa\",\"pattern\":{\"shape\":\"\"}},\"name\":\"Night\",\"offsetgroup\":\"Night\",\"orientation\":\"v\",\"showlegend\":true,\"textposition\":\"auto\",\"x\":[\"Neutral\",\"Positive\"],\"xaxis\":\"x\",\"y\":[10854,5952],\"yaxis\":\"y\",\"type\":\"bar\"}],                        {\"template\":{\"data\":{\"bar\":[{\"error_x\":{\"color\":\"#2a3f5f\"},\"error_y\":{\"color\":\"#2a3f5f\"},\"marker\":{\"line\":{\"color\":\"#E5ECF6\",\"width\":0.5},\"pattern\":{\"fillmode\":\"overlay\",\"size\":10,\"solidity\":0.2}},\"type\":\"bar\"}],\"barpolar\":[{\"marker\":{\"line\":{\"color\":\"#E5ECF6\",\"width\":0.5},\"pattern\":{\"fillmode\":\"overlay\",\"size\":10,\"solidity\":0.2}},\"type\":\"barpolar\"}],\"carpet\":[{\"aaxis\":{\"endlinecolor\":\"#2a3f5f\",\"gridcolor\":\"white\",\"linecolor\":\"white\",\"minorgridcolor\":\"white\",\"startlinecolor\":\"#2a3f5f\"},\"baxis\":{\"endlinecolor\":\"#2a3f5f\",\"gridcolor\":\"white\",\"linecolor\":\"white\",\"minorgridcolor\":\"white\",\"startlinecolor\":\"#2a3f5f\"},\"type\":\"carpet\"}],\"choropleth\":[{\"colorbar\":{\"outlinewidth\":0,\"ticks\":\"\"},\"type\":\"choropleth\"}],\"contour\":[{\"colorbar\":{\"outlinewidth\":0,\"ticks\":\"\"},\"colorscale\":[[0.0,\"#0d0887\"],[0.1111111111111111,\"#46039f\"],[0.2222222222222222,\"#7201a8\"],[0.3333333333333333,\"#9c179e\"],[0.4444444444444444,\"#bd3786\"],[0.5555555555555556,\"#d8576b\"],[0.6666666666666666,\"#ed7953\"],[0.7777777777777778,\"#fb9f3a\"],[0.8888888888888888,\"#fdca26\"],[1.0,\"#f0f921\"]],\"type\":\"contour\"}],\"contourcarpet\":[{\"colorbar\":{\"outlinewidth\":0,\"ticks\":\"\"},\"type\":\"contourcarpet\"}],\"heatmap\":[{\"colorbar\":{\"outlinewidth\":0,\"ticks\":\"\"},\"colorscale\":[[0.0,\"#0d0887\"],[0.1111111111111111,\"#46039f\"],[0.2222222222222222,\"#7201a8\"],[0.3333333333333333,\"#9c179e\"],[0.4444444444444444,\"#bd3786\"],[0.5555555555555556,\"#d8576b\"],[0.6666666666666666,\"#ed7953\"],[0.7777777777777778,\"#fb9f3a\"],[0.8888888888888888,\"#fdca26\"],[1.0,\"#f0f921\"]],\"type\":\"heatmap\"}],\"heatmapgl\":[{\"colorbar\":{\"outlinewidth\":0,\"ticks\":\"\"},\"colorscale\":[[0.0,\"#0d0887\"],[0.1111111111111111,\"#46039f\"],[0.2222222222222222,\"#7201a8\"],[0.3333333333333333,\"#9c179e\"],[0.4444444444444444,\"#bd3786\"],[0.5555555555555556,\"#d8576b\"],[0.6666666666666666,\"#ed7953\"],[0.7777777777777778,\"#fb9f3a\"],[0.8888888888888888,\"#fdca26\"],[1.0,\"#f0f921\"]],\"type\":\"heatmapgl\"}],\"histogram\":[{\"marker\":{\"pattern\":{\"fillmode\":\"overlay\",\"size\":10,\"solidity\":0.2}},\"type\":\"histogram\"}],\"histogram2d\":[{\"colorbar\":{\"outlinewidth\":0,\"ticks\":\"\"},\"colorscale\":[[0.0,\"#0d0887\"],[0.1111111111111111,\"#46039f\"],[0.2222222222222222,\"#7201a8\"],[0.3333333333333333,\"#9c179e\"],[0.4444444444444444,\"#bd3786\"],[0.5555555555555556,\"#d8576b\"],[0.6666666666666666,\"#ed7953\"],[0.7777777777777778,\"#fb9f3a\"],[0.8888888888888888,\"#fdca26\"],[1.0,\"#f0f921\"]],\"type\":\"histogram2d\"}],\"histogram2dcontour\":[{\"colorbar\":{\"outlinewidth\":0,\"ticks\":\"\"},\"colorscale\":[[0.0,\"#0d0887\"],[0.1111111111111111,\"#46039f\"],[0.2222222222222222,\"#7201a8\"],[0.3333333333333333,\"#9c179e\"],[0.4444444444444444,\"#bd3786\"],[0.5555555555555556,\"#d8576b\"],[0.6666666666666666,\"#ed7953\"],[0.7777777777777778,\"#fb9f3a\"],[0.8888888888888888,\"#fdca26\"],[1.0,\"#f0f921\"]],\"type\":\"histogram2dcontour\"}],\"mesh3d\":[{\"colorbar\":{\"outlinewidth\":0,\"ticks\":\"\"},\"type\":\"mesh3d\"}],\"parcoords\":[{\"line\":{\"colorbar\":{\"outlinewidth\":0,\"ticks\":\"\"}},\"type\":\"parcoords\"}],\"pie\":[{\"automargin\":true,\"type\":\"pie\"}],\"scatter\":[{\"marker\":{\"colorbar\":{\"outlinewidth\":0,\"ticks\":\"\"}},\"type\":\"scatter\"}],\"scatter3d\":[{\"line\":{\"colorbar\":{\"outlinewidth\":0,\"ticks\":\"\"}},\"marker\":{\"colorbar\":{\"outlinewidth\":0,\"ticks\":\"\"}},\"type\":\"scatter3d\"}],\"scattercarpet\":[{\"marker\":{\"colorbar\":{\"outlinewidth\":0,\"ticks\":\"\"}},\"type\":\"scattercarpet\"}],\"scattergeo\":[{\"marker\":{\"colorbar\":{\"outlinewidth\":0,\"ticks\":\"\"}},\"type\":\"scattergeo\"}],\"scattergl\":[{\"marker\":{\"colorbar\":{\"outlinewidth\":0,\"ticks\":\"\"}},\"type\":\"scattergl\"}],\"scattermapbox\":[{\"marker\":{\"colorbar\":{\"outlinewidth\":0,\"ticks\":\"\"}},\"type\":\"scattermapbox\"}],\"scatterpolar\":[{\"marker\":{\"colorbar\":{\"outlinewidth\":0,\"ticks\":\"\"}},\"type\":\"scatterpolar\"}],\"scatterpolargl\":[{\"marker\":{\"colorbar\":{\"outlinewidth\":0,\"ticks\":\"\"}},\"type\":\"scatterpolargl\"}],\"scatterternary\":[{\"marker\":{\"colorbar\":{\"outlinewidth\":0,\"ticks\":\"\"}},\"type\":\"scatterternary\"}],\"surface\":[{\"colorbar\":{\"outlinewidth\":0,\"ticks\":\"\"},\"colorscale\":[[0.0,\"#0d0887\"],[0.1111111111111111,\"#46039f\"],[0.2222222222222222,\"#7201a8\"],[0.3333333333333333,\"#9c179e\"],[0.4444444444444444,\"#bd3786\"],[0.5555555555555556,\"#d8576b\"],[0.6666666666666666,\"#ed7953\"],[0.7777777777777778,\"#fb9f3a\"],[0.8888888888888888,\"#fdca26\"],[1.0,\"#f0f921\"]],\"type\":\"surface\"}],\"table\":[{\"cells\":{\"fill\":{\"color\":\"#EBF0F8\"},\"line\":{\"color\":\"white\"}},\"header\":{\"fill\":{\"color\":\"#C8D4E3\"},\"line\":{\"color\":\"white\"}},\"type\":\"table\"}]},\"layout\":{\"annotationdefaults\":{\"arrowcolor\":\"#2a3f5f\",\"arrowhead\":0,\"arrowwidth\":1},\"autotypenumbers\":\"strict\",\"coloraxis\":{\"colorbar\":{\"outlinewidth\":0,\"ticks\":\"\"}},\"colorscale\":{\"diverging\":[[0,\"#8e0152\"],[0.1,\"#c51b7d\"],[0.2,\"#de77ae\"],[0.3,\"#f1b6da\"],[0.4,\"#fde0ef\"],[0.5,\"#f7f7f7\"],[0.6,\"#e6f5d0\"],[0.7,\"#b8e186\"],[0.8,\"#7fbc41\"],[0.9,\"#4d9221\"],[1,\"#276419\"]],\"sequential\":[[0.0,\"#0d0887\"],[0.1111111111111111,\"#46039f\"],[0.2222222222222222,\"#7201a8\"],[0.3333333333333333,\"#9c179e\"],[0.4444444444444444,\"#bd3786\"],[0.5555555555555556,\"#d8576b\"],[0.6666666666666666,\"#ed7953\"],[0.7777777777777778,\"#fb9f3a\"],[0.8888888888888888,\"#fdca26\"],[1.0,\"#f0f921\"]],\"sequentialminus\":[[0.0,\"#0d0887\"],[0.1111111111111111,\"#46039f\"],[0.2222222222222222,\"#7201a8\"],[0.3333333333333333,\"#9c179e\"],[0.4444444444444444,\"#bd3786\"],[0.5555555555555556,\"#d8576b\"],[0.6666666666666666,\"#ed7953\"],[0.7777777777777778,\"#fb9f3a\"],[0.8888888888888888,\"#fdca26\"],[1.0,\"#f0f921\"]]},\"colorway\":[\"#636efa\",\"#EF553B\",\"#00cc96\",\"#ab63fa\",\"#FFA15A\",\"#19d3f3\",\"#FF6692\",\"#B6E880\",\"#FF97FF\",\"#FECB52\"],\"font\":{\"color\":\"#2a3f5f\"},\"geo\":{\"bgcolor\":\"white\",\"lakecolor\":\"white\",\"landcolor\":\"#E5ECF6\",\"showlakes\":true,\"showland\":true,\"subunitcolor\":\"white\"},\"hoverlabel\":{\"align\":\"left\"},\"hovermode\":\"closest\",\"mapbox\":{\"style\":\"light\"},\"paper_bgcolor\":\"white\",\"plot_bgcolor\":\"#E5ECF6\",\"polar\":{\"angularaxis\":{\"gridcolor\":\"white\",\"linecolor\":\"white\",\"ticks\":\"\"},\"bgcolor\":\"#E5ECF6\",\"radialaxis\":{\"gridcolor\":\"white\",\"linecolor\":\"white\",\"ticks\":\"\"}},\"scene\":{\"xaxis\":{\"backgroundcolor\":\"#E5ECF6\",\"gridcolor\":\"white\",\"gridwidth\":2,\"linecolor\":\"white\",\"showbackground\":true,\"ticks\":\"\",\"zerolinecolor\":\"white\"},\"yaxis\":{\"backgroundcolor\":\"#E5ECF6\",\"gridcolor\":\"white\",\"gridwidth\":2,\"linecolor\":\"white\",\"showbackground\":true,\"ticks\":\"\",\"zerolinecolor\":\"white\"},\"zaxis\":{\"backgroundcolor\":\"#E5ECF6\",\"gridcolor\":\"white\",\"gridwidth\":2,\"linecolor\":\"white\",\"showbackground\":true,\"ticks\":\"\",\"zerolinecolor\":\"white\"}},\"shapedefaults\":{\"line\":{\"color\":\"#2a3f5f\"}},\"ternary\":{\"aaxis\":{\"gridcolor\":\"white\",\"linecolor\":\"white\",\"ticks\":\"\"},\"baxis\":{\"gridcolor\":\"white\",\"linecolor\":\"white\",\"ticks\":\"\"},\"bgcolor\":\"#E5ECF6\",\"caxis\":{\"gridcolor\":\"white\",\"linecolor\":\"white\",\"ticks\":\"\"}},\"title\":{\"x\":0.05},\"xaxis\":{\"automargin\":true,\"gridcolor\":\"white\",\"linecolor\":\"white\",\"ticks\":\"\",\"title\":{\"standoff\":15},\"zerolinecolor\":\"white\",\"zerolinewidth\":2},\"yaxis\":{\"automargin\":true,\"gridcolor\":\"white\",\"linecolor\":\"white\",\"ticks\":\"\",\"title\":{\"standoff\":15},\"zerolinecolor\":\"white\",\"zerolinewidth\":2}}},\"xaxis\":{\"anchor\":\"y\",\"domain\":[0.0,1.0],\"title\":{\"text\":\"Sentiment\"}},\"yaxis\":{\"anchor\":\"x\",\"domain\":[0.0,1.0],\"title\":{\"text\":\"Tweet period\"}},\"legend\":{\"title\":{\"text\":\"tweet_period\"},\"tracegroupgap\":0},\"title\":{\"text\":\"Sentiment by tweet period\"},\"barmode\":\"group\"},                        {\"responsive\": true}                    ).then(function(){\n",
              "                            \n",
              "var gd = document.getElementById('9eda9af7-1f75-468d-aed7-6fbbbe2d9c80');\n",
              "var x = new MutationObserver(function (mutations, observer) {{\n",
              "        var display = window.getComputedStyle(gd).display;\n",
              "        if (!display || display === 'none') {{\n",
              "            console.log([gd, 'removed!']);\n",
              "            Plotly.purge(gd);\n",
              "            observer.disconnect();\n",
              "        }}\n",
              "}});\n",
              "\n",
              "// Listen for the removal of the full notebook cells\n",
              "var notebookContainer = gd.closest('#notebook-container');\n",
              "if (notebookContainer) {{\n",
              "    x.observe(notebookContainer, {childList: true});\n",
              "}}\n",
              "\n",
              "// Listen for the clearing of the current output cell\n",
              "var outputEl = gd.closest('.output');\n",
              "if (outputEl) {{\n",
              "    x.observe(outputEl, {childList: true});\n",
              "}}\n",
              "\n",
              "                        })                };                            </script>        </div>\n",
              "</body>\n",
              "</html>"
            ]
          },
          "metadata": {},
          "output_type": "display_data"
        }
      ],
      "source": [
        "data = _df[[\"sentiment_name\", \"tweet_period\"]]\n",
        "data = data.groupby(by=[\"sentiment_name\", \"tweet_period\"]).size().reset_index()\n",
        "data.columns = [\"sentiment_name\", \"tweet_period\", \"total\"]\n",
        "\n",
        "fig = px.bar(\n",
        "    data,\n",
        "    x=\"sentiment_name\",\n",
        "    y=\"total\",\n",
        "    color=\"tweet_period\",\n",
        "    title='Sentiment by tweet period',\n",
        "    barmode='group',\n",
        ")\n",
        "\n",
        "fig.update_xaxes(title=\"Sentiment\")\n",
        "fig.update_yaxes(title=\"Tweet period\")\n",
        "\n",
        "fig.show()"
      ]
    },
    {
      "cell_type": "markdown",
      "id": "97ee9ba6",
      "metadata": {
        "id": "97ee9ba6"
      },
      "source": [
        "## Verificar balanceamento"
      ]
    },
    {
      "cell_type": "code",
      "execution_count": null,
      "id": "cb717760",
      "metadata": {
        "colab": {
          "base_uri": "https://localhost:8080/"
        },
        "id": "cb717760",
        "outputId": "94bf68ce-c4f3-4972-a6b9-211d245a110b"
      },
      "outputs": [
        {
          "data": {
            "text/plain": [
              "sentiment\n",
              "0    31696\n",
              "1    31678\n",
              "2    31626\n",
              "Name: id, dtype: int64"
            ]
          },
          "execution_count": 20,
          "metadata": {},
          "output_type": "execute_result"
        }
      ],
      "source": [
        "_df.groupby(\"sentiment\")[\"id\"].count()"
      ]
    },
    {
      "cell_type": "code",
      "execution_count": null,
      "id": "RsqJW5yQ4cY-",
      "metadata": {
        "colab": {
          "base_uri": "https://localhost:8080/"
        },
        "id": "RsqJW5yQ4cY-",
        "outputId": "05eed17f-e232-48aa-cdb9-4dd6944714e1"
      },
      "outputs": [
        {
          "data": {
            "text/plain": [
              "Index(['id', 'tweet_text', 'tweet_date', 'sentiment', 'query_used',\n",
              "       'tweet_text_length', 'tweet_time', 'tweet_period', 'sentiment_name'],\n",
              "      dtype='object')"
            ]
          },
          "execution_count": 21,
          "metadata": {},
          "output_type": "execute_result"
        }
      ],
      "source": [
        "_df.columns"
      ]
    },
    {
      "cell_type": "markdown",
      "id": "4904b45d",
      "metadata": {
        "id": "4904b45d"
      },
      "source": [
        "# Pré-processamento e transformações"
      ]
    },
    {
      "cell_type": "markdown",
      "id": "jqLVX3rH9eKW",
      "metadata": {
        "id": "jqLVX3rH9eKW"
      },
      "source": []
    },
    {
      "cell_type": "code",
      "execution_count": null,
      "id": "uzYCz3Zu_Rrz",
      "metadata": {
        "id": "uzYCz3Zu_Rrz"
      },
      "outputs": [],
      "source": [
        "stops = stopwords.words(\"portuguese\")"
      ]
    },
    {
      "cell_type": "code",
      "execution_count": null,
      "id": "OuARFvUx9dyr",
      "metadata": {
        "colab": {
          "base_uri": "https://localhost:8080/"
        },
        "id": "OuARFvUx9dyr",
        "outputId": "02b17d07-5bd3-4951-e09a-63f63e9fb267"
      },
      "outputs": [
        {
          "name": "stdout",
          "output_type": "stream",
          "text": [
            "Progress: 40.53%\n"
          ]
        }
      ],
      "source": [
        "def update_data(row, total):\n",
        "    # Converte todas as letras em minúsculas\n",
        "    text_in_lower = row[\"tweet_text\"].lower()\n",
        "    tokens = word_tokenize(text_in_lower, language=\"portuguese\")\n",
        "    words_without_stopwords = [word for word in tokens if word not in stops]\n",
        "    words_without_punctuation = [word for word in words_without_stopwords if word not in string.punctuation]\n",
        "\n",
        "    row[\"tweet_text_formatted\"] = \" \".join(words_without_punctuation)\n",
        "\n",
        "    if row.name % 500 == 0:\n",
        "        value = (row.name + 1) / total * 100\n",
        "        print(f\"Progress: {value:.2f}%\")\n",
        "        clear_output(True)\n",
        "    \n",
        "    return row\n",
        "\n",
        "total = len(_df)\n",
        "\n",
        "_df = _df.apply(\n",
        "    lambda row: update_data(row, total),\n",
        "    axis=1\n",
        ")\n",
        "\n",
        "clear_output(True)\n",
        "print(\"Progress: 100.00%\")"
      ]
    },
    {
      "cell_type": "markdown",
      "id": "v-tmyyGM2526",
      "metadata": {
        "id": "v-tmyyGM2526"
      },
      "source": [
        "## Representação textual"
      ]
    },
    {
      "cell_type": "code",
      "execution_count": null,
      "id": "x2mwmFjcevdZ",
      "metadata": {
        "id": "x2mwmFjcevdZ"
      },
      "outputs": [],
      "source": [
        "_df.columns"
      ]
    },
    {
      "cell_type": "code",
      "execution_count": null,
      "id": "2mTf81K129PX",
      "metadata": {
        "id": "2mTf81K129PX"
      },
      "outputs": [],
      "source": [
        "token = Tokenizer(num_words=100)\n",
        "token.fit_on_texts(_df[\"tweet_text_formatted\"])"
      ]
    },
    {
      "cell_type": "code",
      "execution_count": null,
      "id": "dd7gSegB3KTH",
      "metadata": {
        "id": "dd7gSegB3KTH"
      },
      "outputs": [],
      "source": [
        "X = token.texts_to_sequences(_df[\"tweet_text_formatted\"])\n",
        "X = pad_sequences(X, padding=\"post\", maxlen=100)"
      ]
    },
    {
      "cell_type": "code",
      "execution_count": null,
      "id": "UGvTbGOz3lEq",
      "metadata": {
        "id": "UGvTbGOz3lEq"
      },
      "outputs": [],
      "source": [
        "X"
      ]
    },
    {
      "cell_type": "code",
      "execution_count": null,
      "id": "OK1_NG_a3nM0",
      "metadata": {
        "id": "OK1_NG_a3nM0"
      },
      "outputs": [],
      "source": [
        "label_encoder = LabelEncoder()\n",
        "y = label_encoder.fit_transform(_df[\"sentiment\"])"
      ]
    },
    {
      "cell_type": "code",
      "execution_count": null,
      "id": "qmqMNiB330o2",
      "metadata": {
        "id": "qmqMNiB330o2"
      },
      "outputs": [],
      "source": [
        "print(y)"
      ]
    },
    {
      "cell_type": "code",
      "execution_count": null,
      "id": "VKPpevSf32wY",
      "metadata": {
        "id": "VKPpevSf32wY"
      },
      "outputs": [],
      "source": [
        "y = np_utils.to_categorical(y)"
      ]
    },
    {
      "cell_type": "code",
      "execution_count": null,
      "id": "UfyvyPt43-z-",
      "metadata": {
        "id": "UfyvyPt43-z-"
      },
      "outputs": [],
      "source": [
        "print(y)"
      ]
    },
    {
      "cell_type": "markdown",
      "id": "6655302e",
      "metadata": {
        "id": "6655302e"
      },
      "source": [
        "# Treinamento do modelo"
      ]
    },
    {
      "cell_type": "code",
      "execution_count": null,
      "id": "QbIu7Zdx5HmC",
      "metadata": {
        "id": "QbIu7Zdx5HmC"
      },
      "outputs": [],
      "source": [
        "from sklearn.model_selection import train_test_split\n",
        "from keras.models import Sequential\n",
        "from keras.layers import Dense, Embedding, LSTM, SpatialDropout1D\n"
      ]
    },
    {
      "cell_type": "code",
      "execution_count": null,
      "id": "-OrzQvoN4IkZ",
      "metadata": {
        "id": "-OrzQvoN4IkZ"
      },
      "outputs": [],
      "source": [
        "X_train, X_test, y_train, y_test = train_test_split(\n",
        "    X,\n",
        "    y,\n",
        "    test_size=0.3\n",
        ")"
      ]
    },
    {
      "cell_type": "code",
      "execution_count": null,
      "id": "ujgqNRLU4Ue1",
      "metadata": {
        "id": "ujgqNRLU4Ue1"
      },
      "outputs": [],
      "source": [
        "model = Sequential()\n",
        "\n",
        "model.add(\n",
        "    Embedding(\n",
        "        input_dim=len(token.word_index),\n",
        "        output_dim=128,\n",
        "        input_length=X.shape[1],\n",
        "    )\n",
        ")\n",
        "\n",
        "model.add(\n",
        "    SpatialDropout1D(0.2)\n",
        ")\n",
        "\n",
        "model.add(\n",
        "    LSTM(\n",
        "        units=196,\n",
        "         dropout=0.2,\n",
        "         recurrent_dropout=0,\n",
        "         activation=\"tanh\",\n",
        "         recurrent_activation=\"sigmoid\",\n",
        "         unroll=False,\n",
        "         use_bias=True,\n",
        "    )\n",
        ")\n",
        "\n",
        "model.add(\n",
        "    Dense(\n",
        "        units=3,\n",
        "        activation=\"softmax\",\n",
        "    )\n",
        ")"
      ]
    },
    {
      "cell_type": "code",
      "execution_count": null,
      "id": "zM2X4pWe5jxU",
      "metadata": {
        "id": "zM2X4pWe5jxU"
      },
      "outputs": [],
      "source": [
        "model.compile(\n",
        "    loss=\"categorical_crossentropy\",\n",
        "    optimizer=\"adam\",\n",
        "    metrics=[\n",
        "        \"accuracy\",\n",
        "    ]\n",
        ")"
      ]
    },
    {
      "cell_type": "code",
      "execution_count": null,
      "id": "WTAlo8Ju57KZ",
      "metadata": {
        "id": "WTAlo8Ju57KZ"
      },
      "outputs": [],
      "source": [
        "model.summary()"
      ]
    },
    {
      "cell_type": "code",
      "execution_count": null,
      "id": "GZoOTlwL6BGe",
      "metadata": {
        "id": "GZoOTlwL6BGe"
      },
      "outputs": [],
      "source": [
        "model.fit(\n",
        "    X_train,\n",
        "    y_train,\n",
        "    epochs=10,\n",
        "    batch_size=30,\n",
        "    verbose=True,\n",
        "    validation_data=(\n",
        "        X_test,\n",
        "        y_test,\n",
        "    )\n",
        ")"
      ]
    },
    {
      "cell_type": "code",
      "execution_count": null,
      "id": "LcpqhP8l6TJX",
      "metadata": {
        "id": "LcpqhP8l6TJX"
      },
      "outputs": [],
      "source": [
        "loss, accuracy = model.evaluate(X_test, y_test)\n",
        "\n",
        "print(f\"Loss: {loss}\")\n",
        "print(f\"Accuracy: {accuracy}\")"
      ]
    },
    {
      "cell_type": "code",
      "execution_count": null,
      "id": "YvCLeeJ26gmb",
      "metadata": {
        "id": "YvCLeeJ26gmb"
      },
      "outputs": [],
      "source": [
        "prev = model.predict(X_test)\n",
        "\n",
        "print(prev)"
      ]
    },
    {
      "cell_type": "markdown",
      "id": "898010ce",
      "metadata": {
        "id": "898010ce"
      },
      "source": [
        "# Conclusões"
      ]
    }
  ],
  "metadata": {
    "colab": {
      "collapsed_sections": [
        "2bb43f36",
        "5832c2bb",
        "efc5d631",
        "97ee9ba6"
      ],
      "name": "Projeto 2 - NLP.ipynb",
      "provenance": []
    },
    "interpreter": {
      "hash": "4ca8feaf91c257d97511107538b21d995d5fc29d6fdf073aa23ff84e99a9b198"
    },
    "kernelspec": {
      "display_name": "Python 3.8.10 ('venv': venv)",
      "language": "python",
      "name": "python3"
    },
    "language_info": {
      "codemirror_mode": {
        "name": "ipython",
        "version": 3
      },
      "file_extension": ".py",
      "mimetype": "text/x-python",
      "name": "python",
      "nbconvert_exporter": "python",
      "pygments_lexer": "ipython3",
      "version": "3.8.10"
    }
  },
  "nbformat": 4,
  "nbformat_minor": 5
}
